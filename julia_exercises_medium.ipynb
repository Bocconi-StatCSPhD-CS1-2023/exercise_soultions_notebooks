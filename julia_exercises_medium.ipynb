{
 "cells": [
  {
   "cell_type": "markdown",
   "id": "5d374982",
   "metadata": {},
   "source": [
    "# Ex1: Draw a triangle"
   ]
  },
  {
   "cell_type": "code",
   "execution_count": 15,
   "id": "852c6fae",
   "metadata": {},
   "outputs": [
    {
     "data": {
      "text/plain": [
       "drawtri (generic function with 1 method)"
      ]
     },
     "execution_count": 15,
     "metadata": {},
     "output_type": "execute_result"
    }
   ],
   "source": [
    "function drawtri(n::Integer)\n",
    "    n < 0 && throw(ArgumentError(\"'n' must be a non-negative integer\"))\n",
    "    println(\"o\")\n",
    "    for i in 0:n-1\n",
    "        println(\"|\", \" \"^i, \"\\\\\")\n",
    "    end\n",
    "    println(\"o\", \"-\"^n, \"o\")\n",
    "end"
   ]
  },
  {
   "cell_type": "code",
   "execution_count": 16,
   "id": "70e9959c",
   "metadata": {},
   "outputs": [
    {
     "name": "stdout",
     "output_type": "stream",
     "text": [
      "o\n",
      "oo\n"
     ]
    }
   ],
   "source": [
    "drawtri(0)"
   ]
  },
  {
   "cell_type": "code",
   "execution_count": 17,
   "id": "9c86a75d",
   "metadata": {},
   "outputs": [
    {
     "name": "stdout",
     "output_type": "stream",
     "text": [
      "o\n",
      "|\\\n",
      "o-o\n"
     ]
    }
   ],
   "source": [
    "drawtri(1)"
   ]
  },
  {
   "cell_type": "code",
   "execution_count": 19,
   "id": "0cc1c952",
   "metadata": {},
   "outputs": [
    {
     "name": "stdout",
     "output_type": "stream",
     "text": [
      "o\n",
      "|\\\n",
      "| \\\n",
      "|  \\\n",
      "|   \\\n",
      "|    \\\n",
      "o-----o\n"
     ]
    }
   ],
   "source": [
    "drawtri(5)"
   ]
  },
  {
   "cell_type": "markdown",
   "id": "8c1fc5e2",
   "metadata": {},
   "source": [
    "# Ex2: Revert a list"
   ]
  },
  {
   "cell_type": "code",
   "execution_count": 24,
   "id": "01c41071",
   "metadata": {},
   "outputs": [
    {
     "data": {
      "text/plain": [
       "revert (generic function with 1 method)"
      ]
     },
     "execution_count": 24,
     "metadata": {},
     "output_type": "execute_result"
    }
   ],
   "source": [
    "function revert(v::Vector{<:Any})\n",
    "    len = length(v)\n",
    "    l = 1\n",
    "    r = len\n",
    "    while l < r\n",
    "        t = v[l]\n",
    "        v[l] = v[r]\n",
    "        v[r] = t\n",
    "        l += 1\n",
    "        r -= 1\n",
    "    end\n",
    "end    "
   ]
  },
  {
   "cell_type": "code",
   "execution_count": 25,
   "id": "8e993842",
   "metadata": {},
   "outputs": [
    {
     "data": {
      "text/plain": [
       "3-element Vector{Int64}:\n",
       " 7\n",
       " 5\n",
       " 1"
      ]
     },
     "execution_count": 25,
     "metadata": {},
     "output_type": "execute_result"
    }
   ],
   "source": [
    "l = [1, 5, 7]\n",
    "revert(l)\n",
    "l"
   ]
  },
  {
   "cell_type": "code",
   "execution_count": 28,
   "id": "0ff0d63d",
   "metadata": {},
   "outputs": [
    {
     "data": {
      "text/plain": [
       "6-element Vector{String}:\n",
       " \"g\"\n",
       " \"o\"\n",
       " \"b\"\n",
       " \"l\"\n",
       " \"i\"\n",
       " \"n\""
      ]
     },
     "execution_count": 28,
     "metadata": {},
     "output_type": "execute_result"
    }
   ],
   "source": [
    "l = [\"n\", \"i\", \"l\", \"b\", \"o\", \"g\"]\n",
    "revert(l)\n",
    "l"
   ]
  },
  {
   "cell_type": "markdown",
   "id": "733b7b1f",
   "metadata": {},
   "source": [
    "# Ex3: Fibonacci numbers and the Golden ratio"
   ]
  },
  {
   "cell_type": "code",
   "execution_count": 45,
   "id": "6ae657d6",
   "metadata": {},
   "outputs": [
    {
     "data": {
      "text/plain": [
       "approxphi (generic function with 1 method)"
      ]
     },
     "execution_count": 45,
     "metadata": {},
     "output_type": "execute_result"
    }
   ],
   "source": [
    "function approxphi(n::Integer)::Float64\n",
    "    n < 0 && throw(ArgumentError(\"'n' must be a non-negative integer\"))\n",
    "    a = BigInt(1)\n",
    "    b = BigInt(1)\n",
    "    for i in 2:n\n",
    "        t = b\n",
    "        b = a + b\n",
    "        a = t\n",
    "    end\n",
    "    return Float64(b/a)\n",
    "end"
   ]
  },
  {
   "cell_type": "code",
   "execution_count": 46,
   "id": "a0cd1de9",
   "metadata": {},
   "outputs": [
    {
     "data": {
      "text/plain": [
       "1.0"
      ]
     },
     "execution_count": 46,
     "metadata": {},
     "output_type": "execute_result"
    }
   ],
   "source": [
    "approxphi(1)"
   ]
  },
  {
   "cell_type": "code",
   "execution_count": 47,
   "id": "350fbbe1",
   "metadata": {},
   "outputs": [
    {
     "data": {
      "text/plain": [
       "1.5"
      ]
     },
     "execution_count": 47,
     "metadata": {},
     "output_type": "execute_result"
    }
   ],
   "source": [
    "approxphi(3)"
   ]
  },
  {
   "cell_type": "code",
   "execution_count": 48,
   "id": "20557706",
   "metadata": {},
   "outputs": [
    {
     "data": {
      "text/plain": [
       "1.618033988749895"
      ]
     },
     "execution_count": 48,
     "metadata": {},
     "output_type": "execute_result"
    }
   ],
   "source": [
    "approxphi(100)"
   ]
  },
  {
   "cell_type": "markdown",
   "id": "89e7c497",
   "metadata": {},
   "source": [
    "# Ex4: Run-length decoding"
   ]
  },
  {
   "cell_type": "code",
   "execution_count": 1,
   "id": "24c5b719",
   "metadata": {},
   "outputs": [
    {
     "data": {
      "text/plain": [
       "rl_decode (generic function with 1 method)"
      ]
     },
     "execution_count": 1,
     "metadata": {},
     "output_type": "execute_result"
    }
   ],
   "source": [
    "function rl_decode(l::Vector)\n",
    "    res = \"\"\n",
    "    for i in 1:2:length(l)\n",
    "        res *= l[i+1]^l[i]\n",
    "    end\n",
    "    return res\n",
    "end"
   ]
  },
  {
   "cell_type": "code",
   "execution_count": 2,
   "id": "cb59c2c1",
   "metadata": {},
   "outputs": [
    {
     "data": {
      "text/plain": [
       "\"AAABCCD\""
      ]
     },
     "execution_count": 2,
     "metadata": {},
     "output_type": "execute_result"
    }
   ],
   "source": [
    "rl_decode([3, 'A', 1, 'B', 2, 'C', 1, 'D'])"
   ]
  },
  {
   "cell_type": "code",
   "execution_count": 3,
   "id": "ad0b0a58",
   "metadata": {},
   "outputs": [
    {
     "data": {
      "text/plain": [
       "\"1115555\""
      ]
     },
     "execution_count": 3,
     "metadata": {},
     "output_type": "execute_result"
    }
   ],
   "source": [
    "rl_decode([3, '1', 4, '5'])"
   ]
  },
  {
   "cell_type": "code",
   "execution_count": 4,
   "id": "9c75d835",
   "metadata": {},
   "outputs": [
    {
     "data": {
      "text/plain": [
       "\"\""
      ]
     },
     "execution_count": 4,
     "metadata": {},
     "output_type": "execute_result"
    }
   ],
   "source": [
    "rl_decode([])"
   ]
  },
  {
   "cell_type": "markdown",
   "id": "bb617d47",
   "metadata": {},
   "source": [
    "# Ex5: Arnold’s cat"
   ]
  },
  {
   "cell_type": "code",
   "execution_count": 6,
   "id": "4593d5e5",
   "metadata": {},
   "outputs": [
    {
     "data": {
      "text/plain": [
       "catmap (generic function with 1 method)"
      ]
     },
     "execution_count": 6,
     "metadata": {},
     "output_type": "execute_result"
    }
   ],
   "source": [
    "function catmap(x::Int, y::Int, n::Int)\n",
    "    return ((2 * x + y) % n, (x + y) % n)\n",
    "end"
   ]
  },
  {
   "cell_type": "code",
   "execution_count": 9,
   "id": "8e9edf99",
   "metadata": {},
   "outputs": [
    {
     "data": {
      "text/plain": [
       "(4, 6)"
      ]
     },
     "execution_count": 9,
     "metadata": {},
     "output_type": "execute_result"
    }
   ],
   "source": [
    "catmap(5, 1, 7)"
   ]
  },
  {
   "cell_type": "code",
   "execution_count": 10,
   "id": "904e564b",
   "metadata": {},
   "outputs": [
    {
     "data": {
      "text/plain": [
       "catperiod (generic function with 1 method)"
      ]
     },
     "execution_count": 10,
     "metadata": {},
     "output_type": "execute_result"
    }
   ],
   "source": [
    "function catperiod(x::Int, y::Int, n::Int)\n",
    "    initial = (x, y)\n",
    "    x, y = catmap(x, y, n)\n",
    "    n_iter = 1\n",
    "    while (x, y) != initial\n",
    "        x, y = catmap(x, y, n)\n",
    "        n_iter += 1\n",
    "    end\n",
    "    return n_iter\n",
    "end"
   ]
  },
  {
   "cell_type": "code",
   "execution_count": 11,
   "id": "99aed46f",
   "metadata": {},
   "outputs": [
    {
     "data": {
      "text/plain": [
       "1"
      ]
     },
     "execution_count": 11,
     "metadata": {},
     "output_type": "execute_result"
    }
   ],
   "source": [
    "catperiod(0, 0, 7)"
   ]
  },
  {
   "cell_type": "code",
   "execution_count": 12,
   "id": "bb47ce3d",
   "metadata": {},
   "outputs": [
    {
     "data": {
      "text/plain": [
       "8"
      ]
     },
     "execution_count": 12,
     "metadata": {},
     "output_type": "execute_result"
    }
   ],
   "source": [
    "catperiod(5, 1, 7)"
   ]
  },
  {
   "cell_type": "code",
   "execution_count": 13,
   "id": "47f5768b",
   "metadata": {},
   "outputs": [
    {
     "data": {
      "text/plain": [
       "12"
      ]
     },
     "execution_count": 13,
     "metadata": {},
     "output_type": "execute_result"
    }
   ],
   "source": [
    "catperiod(2, 3, 9)"
   ]
  },
  {
   "cell_type": "markdown",
   "id": "d0d94734",
   "metadata": {},
   "source": [
    "# Ex6: Local minima of a list"
   ]
  },
  {
   "cell_type": "code",
   "execution_count": 25,
   "id": "e308fc77",
   "metadata": {},
   "outputs": [
    {
     "data": {
      "text/plain": [
       "localmin (generic function with 1 method)"
      ]
     },
     "execution_count": 25,
     "metadata": {},
     "output_type": "execute_result"
    }
   ],
   "source": [
    "function localmin(v::Vector{<:Real})\n",
    "    local_mins = Int[]\n",
    "    len = length(v)\n",
    "    for i in 1:len\n",
    "        i != 1 && v[i] > v[i-1] && continue\n",
    "        i != len && v[i] > v[i+1] && continue\n",
    "        push!(local_mins, i)\n",
    "    end\n",
    "    return local_mins\n",
    "end"
   ]
  },
  {
   "cell_type": "code",
   "execution_count": 26,
   "id": "1faad9d4",
   "metadata": {},
   "outputs": [
    {
     "data": {
      "text/plain": [
       "Int64[]"
      ]
     },
     "execution_count": 26,
     "metadata": {},
     "output_type": "execute_result"
    }
   ],
   "source": [
    "localmin(Real[])"
   ]
  },
  {
   "cell_type": "code",
   "execution_count": 27,
   "id": "80bbdbf9",
   "metadata": {},
   "outputs": [
    {
     "data": {
      "text/plain": [
       "1-element Vector{Int64}:\n",
       " 1"
      ]
     },
     "execution_count": 27,
     "metadata": {},
     "output_type": "execute_result"
    }
   ],
   "source": [
    "localmin([5])"
   ]
  },
  {
   "cell_type": "code",
   "execution_count": 28,
   "id": "99cceafc",
   "metadata": {},
   "outputs": [
    {
     "data": {
      "text/plain": [
       "2-element Vector{Int64}:\n",
       " 3\n",
       " 7"
      ]
     },
     "execution_count": 28,
     "metadata": {},
     "output_type": "execute_result"
    }
   ],
   "source": [
    "localmin([3, 2, 0, 1, 5, 8, 7])"
   ]
  },
  {
   "cell_type": "code",
   "execution_count": 29,
   "id": "a30f100d",
   "metadata": {},
   "outputs": [
    {
     "data": {
      "text/plain": [
       "4-element Vector{Int64}:\n",
       " 1\n",
       " 2\n",
       " 3\n",
       " 4"
      ]
     },
     "execution_count": 29,
     "metadata": {},
     "output_type": "execute_result"
    }
   ],
   "source": [
    "localmin([2, 2, 2, 2])"
   ]
  },
  {
   "cell_type": "markdown",
   "id": "08595226",
   "metadata": {},
   "source": [
    "# Ex7: Atbash cipher"
   ]
  },
  {
   "cell_type": "code",
   "execution_count": 47,
   "id": "3bc559e0",
   "metadata": {},
   "outputs": [
    {
     "data": {
      "text/plain": [
       "atbash (generic function with 1 method)"
      ]
     },
     "execution_count": 47,
     "metadata": {},
     "output_type": "execute_result"
    }
   ],
   "source": [
    "function atbashmap(c::Char)\n",
    "    return Char(219 - Int(c))\n",
    "end\n",
    "\n",
    "function atbash(s::String)\n",
    "    return join(atbashmap(c) for c in collect(s))\n",
    "end"
   ]
  },
  {
   "cell_type": "code",
   "execution_count": 48,
   "id": "dc3ed24d",
   "metadata": {},
   "outputs": [
    {
     "data": {
      "text/plain": [
       "\"zyx\""
      ]
     },
     "execution_count": 48,
     "metadata": {},
     "output_type": "execute_result"
    }
   ],
   "source": [
    "atbash(\"abc\")"
   ]
  },
  {
   "cell_type": "code",
   "execution_count": 49,
   "id": "223ad66f",
   "metadata": {},
   "outputs": [
    {
     "data": {
      "text/plain": [
       "\"zyxwvutsrqponmlkjihgfedcba\""
      ]
     },
     "execution_count": 49,
     "metadata": {},
     "output_type": "execute_result"
    }
   ],
   "source": [
    "atbash(\"abcdefghijklmnopqrstuvwxyz\")"
   ]
  },
  {
   "cell_type": "code",
   "execution_count": 50,
   "id": "b3aa2a14",
   "metadata": {},
   "outputs": [
    {
     "data": {
      "text/plain": [
       "\"twice\""
      ]
     },
     "execution_count": 50,
     "metadata": {},
     "output_type": "execute_result"
    }
   ],
   "source": [
    "atbash(atbash(\"twice\"))"
   ]
  },
  {
   "cell_type": "markdown",
   "id": "30adfce0",
   "metadata": {},
   "source": [
    "# Ex8: Leibniz pie"
   ]
  },
  {
   "cell_type": "code",
   "execution_count": 56,
   "id": "e46b8d36",
   "metadata": {},
   "outputs": [
    {
     "data": {
      "text/plain": [
       "leibnizpi (generic function with 1 method)"
      ]
     },
     "execution_count": 56,
     "metadata": {},
     "output_type": "execute_result"
    }
   ],
   "source": [
    "function leibnizpi(n::Int)\n",
    "    n < 1 && throw(ArgumentError(\"'n' must be a positive integer\"))\n",
    "    return 4 * sum((-1)^(i + 1) / (2*i - 1) for i in 1:n)\n",
    "end"
   ]
  },
  {
   "cell_type": "code",
   "execution_count": 57,
   "id": "57870ba2",
   "metadata": {},
   "outputs": [
    {
     "data": {
      "text/plain": [
       "4.0"
      ]
     },
     "execution_count": 57,
     "metadata": {},
     "output_type": "execute_result"
    }
   ],
   "source": [
    "leibnizpi(1)"
   ]
  },
  {
   "cell_type": "code",
   "execution_count": 61,
   "id": "52135ec9",
   "metadata": {},
   "outputs": [
    {
     "data": {
      "text/plain": [
       "true"
      ]
     },
     "execution_count": 61,
     "metadata": {},
     "output_type": "execute_result"
    }
   ],
   "source": [
    "leibnizpi(10000) == 3.1414926535900345"
   ]
  },
  {
   "cell_type": "markdown",
   "id": "0031d71f",
   "metadata": {},
   "source": [
    "# Ex9: A list through a list"
   ]
  },
  {
   "cell_type": "code",
   "execution_count": 1,
   "id": "06ef1a63",
   "metadata": {},
   "outputs": [
    {
     "data": {
      "text/plain": [
       "listbylist (generic function with 2 methods)"
      ]
     },
     "execution_count": 1,
     "metadata": {},
     "output_type": "execute_result"
    }
   ],
   "source": [
    "function listbylist(l::Vector, ind::Vector{Int}, skip::Bool=true)\n",
    "    res = eltype(l)[]\n",
    "    len = length(l)\n",
    "    for i in ind\n",
    "        if 1 <= i <= len\n",
    "            push!(res, l[i])\n",
    "        elseif skip\n",
    "            continue\n",
    "        else\n",
    "            error(\"index $i is invalid\")\n",
    "        end\n",
    "    end  \n",
    "    return res\n",
    "end"
   ]
  },
  {
   "cell_type": "code",
   "execution_count": 2,
   "id": "7dbb1ee3",
   "metadata": {},
   "outputs": [
    {
     "data": {
      "text/plain": [
       "3-element Vector{String}:\n",
       " \"a\"\n",
       " \"b\"\n",
       " \"a\""
      ]
     },
     "execution_count": 2,
     "metadata": {},
     "output_type": "execute_result"
    }
   ],
   "source": [
    "listbylist([\"a\", \"b\", \"c\"], [1, 0, 0, 2, 1], true)"
   ]
  },
  {
   "cell_type": "code",
   "execution_count": 5,
   "id": "69b25dc5",
   "metadata": {},
   "outputs": [
    {
     "ename": "LoadError",
     "evalue": "index -1 is invalid",
     "output_type": "error",
     "traceback": [
      "index -1 is invalid",
      "",
      "Stacktrace:",
      " [1] error(s::String)",
      "   @ Base ./error.jl:35",
      " [2] listbylist(l::Vector{Char}, ind::Vector{Int64}, skip::Bool)",
      "   @ Main ./In[1]:10",
      " [3] top-level scope",
      "   @ In[5]:1"
     ]
    }
   ],
   "source": [
    "listbylist(['a', 'b', 'c'], [1, -1, 0, 2, 3], false)"
   ]
  },
  {
   "cell_type": "code",
   "execution_count": 6,
   "id": "16c91496",
   "metadata": {},
   "outputs": [
    {
     "data": {
      "text/plain": [
       "6-element Vector{Char}:\n",
       " 'g': ASCII/Unicode U+0067 (category Ll: Letter, lowercase)\n",
       " 'o': ASCII/Unicode U+006F (category Ll: Letter, lowercase)\n",
       " 'b': ASCII/Unicode U+0062 (category Ll: Letter, lowercase)\n",
       " 'l': ASCII/Unicode U+006C (category Ll: Letter, lowercase)\n",
       " 'i': ASCII/Unicode U+0069 (category Ll: Letter, lowercase)\n",
       " 'n': ASCII/Unicode U+006E (category Ll: Letter, lowercase)"
      ]
     },
     "execution_count": 6,
     "metadata": {},
     "output_type": "execute_result"
    }
   ],
   "source": [
    " listbylist(['b', 'g', 'i', 'l', 'n', 'o'], [2, 6, 1, 4, 3, 5])"
   ]
  },
  {
   "cell_type": "markdown",
   "id": "340bea80",
   "metadata": {},
   "source": [
    "# Ex10: Outer product"
   ]
  },
  {
   "cell_type": "code",
   "execution_count": 7,
   "id": "16f6d8e9",
   "metadata": {},
   "outputs": [
    {
     "data": {
      "text/plain": [
       "outer (generic function with 1 method)"
      ]
     },
     "execution_count": 7,
     "metadata": {},
     "output_type": "execute_result"
    }
   ],
   "source": [
    "function outer(v::Vector{<:Real}, w::Vector{<:Real})\n",
    "    return [[l*r for r in w] for l in v]\n",
    "end"
   ]
  },
  {
   "cell_type": "code",
   "execution_count": 8,
   "id": "209aa553",
   "metadata": {},
   "outputs": [
    {
     "data": {
      "text/plain": [
       "2-element Vector{Vector{Int64}}:\n",
       " [3, 4]\n",
       " [6, 8]"
      ]
     },
     "execution_count": 8,
     "metadata": {},
     "output_type": "execute_result"
    }
   ],
   "source": [
    "outer([1, 2], [3, 4])"
   ]
  },
  {
   "cell_type": "code",
   "execution_count": 9,
   "id": "0f8fe75b",
   "metadata": {},
   "outputs": [
    {
     "data": {
      "text/plain": [
       "2-element Vector{Vector{Int64}}:\n",
       " [2, 0, 6]\n",
       " [5, 0, 15]"
      ]
     },
     "execution_count": 9,
     "metadata": {},
     "output_type": "execute_result"
    }
   ],
   "source": [
    "outer([2, 5], [1, 0, 3])"
   ]
  },
  {
   "cell_type": "markdown",
   "id": "08c4d58e",
   "metadata": {},
   "source": [
    "# Ex11: Second maximum"
   ]
  },
  {
   "cell_type": "code",
   "execution_count": 1,
   "id": "81df5b3a",
   "metadata": {},
   "outputs": [
    {
     "data": {
      "text/plain": [
       "secondmax (generic function with 1 method)"
      ]
     },
     "execution_count": 1,
     "metadata": {},
     "output_type": "execute_result"
    }
   ],
   "source": [
    "function secondmax(l::Vector{Int})\n",
    "    f = 0\n",
    "    s = 0\n",
    "    for x in l\n",
    "        x <= 0 && throw(ArgumentError(\"'l' must be a list of positive integers\"))\n",
    "        x >= f && (s = f; f = x)\n",
    "    end\n",
    "    return s\n",
    "end"
   ]
  },
  {
   "cell_type": "code",
   "execution_count": 2,
   "id": "a00cbbe2",
   "metadata": {},
   "outputs": [
    {
     "data": {
      "text/plain": [
       "5"
      ]
     },
     "execution_count": 2,
     "metadata": {},
     "output_type": "execute_result"
    }
   ],
   "source": [
    "secondmax([2, 5, 1, 6, 3])"
   ]
  },
  {
   "cell_type": "code",
   "execution_count": 3,
   "id": "a76ec25c",
   "metadata": {},
   "outputs": [
    {
     "data": {
      "text/plain": [
       "8"
      ]
     },
     "execution_count": 3,
     "metadata": {},
     "output_type": "execute_result"
    }
   ],
   "source": [
    "secondmax([8, 2, 5, 8, 6])"
   ]
  },
  {
   "cell_type": "code",
   "execution_count": 4,
   "id": "4afdf730",
   "metadata": {},
   "outputs": [
    {
     "data": {
      "text/plain": [
       "0"
      ]
     },
     "execution_count": 4,
     "metadata": {},
     "output_type": "execute_result"
    }
   ],
   "source": [
    "secondmax([2])"
   ]
  },
  {
   "cell_type": "code",
   "execution_count": 6,
   "id": "050467bd",
   "metadata": {},
   "outputs": [
    {
     "data": {
      "text/plain": [
       "0"
      ]
     },
     "execution_count": 6,
     "metadata": {},
     "output_type": "execute_result"
    }
   ],
   "source": [
    "secondmax(Int[])"
   ]
  },
  {
   "cell_type": "markdown",
   "id": "0c79e92d",
   "metadata": {},
   "source": [
    "# Ex12: Permutation?"
   ]
  },
  {
   "cell_type": "code",
   "execution_count": 2,
   "id": "8cfbd3a7",
   "metadata": {},
   "outputs": [
    {
     "data": {
      "text/plain": [
       "isperm (generic function with 1 method)"
      ]
     },
     "execution_count": 2,
     "metadata": {},
     "output_type": "execute_result"
    }
   ],
   "source": [
    "function isperm(l::Vector{Int})\n",
    "    len = length(l)\n",
    "    seen = falses(len)\n",
    "    for i in 1:len\n",
    "        1 <= l[i] <= len && seen[l[i]] == false ? seen[l[i]] = true : return false\n",
    "    end\n",
    "    return true\n",
    "end"
   ]
  },
  {
   "cell_type": "code",
   "execution_count": 4,
   "id": "77756d4d",
   "metadata": {},
   "outputs": [
    {
     "data": {
      "text/plain": [
       "true"
      ]
     },
     "execution_count": 4,
     "metadata": {},
     "output_type": "execute_result"
    }
   ],
   "source": [
    "isperm([1])"
   ]
  },
  {
   "cell_type": "code",
   "execution_count": 5,
   "id": "1297fec1",
   "metadata": {},
   "outputs": [
    {
     "data": {
      "text/plain": [
       "false"
      ]
     },
     "execution_count": 5,
     "metadata": {},
     "output_type": "execute_result"
    }
   ],
   "source": [
    "isperm([5, 1, 0, 3, 2, 4])"
   ]
  },
  {
   "cell_type": "code",
   "execution_count": 6,
   "id": "050755c4",
   "metadata": {},
   "outputs": [
    {
     "data": {
      "text/plain": [
       "true"
      ]
     },
     "execution_count": 6,
     "metadata": {},
     "output_type": "execute_result"
    }
   ],
   "source": [
    "isperm([6, 2, 1, 4, 3, 5])"
   ]
  },
  {
   "cell_type": "markdown",
   "id": "30de15ca",
   "metadata": {},
   "source": [
    "# Ex13: Catalan numbers"
   ]
  },
  {
   "cell_type": "code",
   "execution_count": 1,
   "id": "b14326b6",
   "metadata": {},
   "outputs": [],
   "source": [
    "using BenchmarkTools"
   ]
  },
  {
   "cell_type": "code",
   "execution_count": 43,
   "id": "1b57faf2",
   "metadata": {},
   "outputs": [
    {
     "data": {
      "text/plain": [
       "catalan (generic function with 1 method)"
      ]
     },
     "execution_count": 43,
     "metadata": {},
     "output_type": "execute_result"
    }
   ],
   "source": [
    "function catalan(n::Int)::Vector{Int}\n",
    "    n < 1 && throw(ArgumentError(\"'n' should be a positive integer\"))\n",
    "    res = zeros(Int, n)\n",
    "    res[1] = 1\n",
    "    for i in 2:n\n",
    "        res[i] = sum(res[1 : i-1] .* reverse(res[1 : i-1]))\n",
    "    end\n",
    "    return res\n",
    "end"
   ]
  },
  {
   "cell_type": "code",
   "execution_count": 44,
   "id": "cfdef455",
   "metadata": {},
   "outputs": [
    {
     "data": {
      "text/plain": [
       "catalan_v2 (generic function with 1 method)"
      ]
     },
     "execution_count": 44,
     "metadata": {},
     "output_type": "execute_result"
    }
   ],
   "source": [
    "function catalan_v2(n::Int)::Vector{Int}\n",
    "    n < 1 && throw(ArgumentError(\"'n' should be a positive integer\"))\n",
    "    res = zeros(Int, n)\n",
    "    res[1] = 1\n",
    "    for i in 2:n\n",
    "        for j in 1:(i-1)\n",
    "            res[i] += res[j] * res[i-j]\n",
    "        end\n",
    "    end\n",
    "    return res\n",
    "end"
   ]
  },
  {
   "cell_type": "code",
   "execution_count": 45,
   "id": "201c3268",
   "metadata": {},
   "outputs": [
    {
     "data": {
      "text/plain": [
       "11-element Vector{Int64}:\n",
       "     1\n",
       "     1\n",
       "     2\n",
       "     5\n",
       "    14\n",
       "    42\n",
       "   132\n",
       "   429\n",
       "  1430\n",
       "  4862\n",
       " 16796"
      ]
     },
     "execution_count": 45,
     "metadata": {},
     "output_type": "execute_result"
    }
   ],
   "source": [
    "catalan(11)"
   ]
  },
  {
   "cell_type": "code",
   "execution_count": 46,
   "id": "cccd0c94",
   "metadata": {},
   "outputs": [
    {
     "data": {
      "text/plain": [
       "11-element Vector{Int64}:\n",
       "     1\n",
       "     1\n",
       "     2\n",
       "     5\n",
       "    14\n",
       "    42\n",
       "   132\n",
       "   429\n",
       "  1430\n",
       "  4862\n",
       " 16796"
      ]
     },
     "execution_count": 46,
     "metadata": {},
     "output_type": "execute_result"
    }
   ],
   "source": [
    "catalan_v2(11)"
   ]
  },
  {
   "cell_type": "code",
   "execution_count": 47,
   "id": "686b5d48",
   "metadata": {},
   "outputs": [
    {
     "name": "stdout",
     "output_type": "stream",
     "text": [
      "  1.800 μs (77 allocations: 10.59 KiB)\n"
     ]
    },
    {
     "data": {
      "text/plain": [
       "20-element Vector{Int64}:\n",
       "          1\n",
       "          1\n",
       "          2\n",
       "          5\n",
       "         14\n",
       "         42\n",
       "        132\n",
       "        429\n",
       "       1430\n",
       "       4862\n",
       "      16796\n",
       "      58786\n",
       "     208012\n",
       "     742900\n",
       "    2674440\n",
       "    9694845\n",
       "   35357670\n",
       "  129644790\n",
       "  477638700\n",
       " 1767263190"
      ]
     },
     "execution_count": 47,
     "metadata": {},
     "output_type": "execute_result"
    }
   ],
   "source": [
    "@btime catalan(20)"
   ]
  },
  {
   "cell_type": "code",
   "execution_count": 48,
   "id": "6a670e87",
   "metadata": {},
   "outputs": [
    {
     "name": "stdout",
     "output_type": "stream",
     "text": [
      "  517.236 ns (1 allocation: 224 bytes)\n"
     ]
    },
    {
     "data": {
      "text/plain": [
       "20-element Vector{Int64}:\n",
       "          1\n",
       "          1\n",
       "          2\n",
       "          5\n",
       "         14\n",
       "         42\n",
       "        132\n",
       "        429\n",
       "       1430\n",
       "       4862\n",
       "      16796\n",
       "      58786\n",
       "     208012\n",
       "     742900\n",
       "    2674440\n",
       "    9694845\n",
       "   35357670\n",
       "  129644790\n",
       "  477638700\n",
       " 1767263190"
      ]
     },
     "execution_count": 48,
     "metadata": {},
     "output_type": "execute_result"
    }
   ],
   "source": [
    "@btime catalan_v2(20)"
   ]
  },
  {
   "cell_type": "code",
   "execution_count": 52,
   "id": "93a682e6",
   "metadata": {},
   "outputs": [
    {
     "data": {
      "text/plain": [
       "catalan_bigint (generic function with 1 method)"
      ]
     },
     "execution_count": 52,
     "metadata": {},
     "output_type": "execute_result"
    }
   ],
   "source": [
    "function catalan_bigint(n::Int)::Vector{BigInt}\n",
    "    n < 1 && throw(ArgumentError(\"'n' should be a positive integer\"))\n",
    "    res = zeros(BigInt, n)\n",
    "    res[1] = BigInt(1)\n",
    "    for i in 2:n\n",
    "        res[i] = sum(res[1 : i-1] .* reverse(res[1 : i-1]))\n",
    "    end\n",
    "    return res\n",
    "end"
   ]
  },
  {
   "cell_type": "code",
   "execution_count": 53,
   "id": "8609a903",
   "metadata": {},
   "outputs": [
    {
     "data": {
      "text/plain": [
       "catalan_v2_bigint (generic function with 1 method)"
      ]
     },
     "execution_count": 53,
     "metadata": {},
     "output_type": "execute_result"
    }
   ],
   "source": [
    "function catalan_v2_bigint(n::Int)::Vector{BigInt}\n",
    "    n < 1 && throw(ArgumentError(\"'n' should be a positive integer\"))\n",
    "    res = zeros(BigInt, n)\n",
    "    res[1] = BigInt(1)\n",
    "    for i in 2:n\n",
    "        for j in 1:(i-1)\n",
    "            res[i] += res[j] * res[i-j]\n",
    "        end\n",
    "    end\n",
    "    return res\n",
    "end"
   ]
  },
  {
   "cell_type": "code",
   "execution_count": 58,
   "id": "02b92a3a",
   "metadata": {},
   "outputs": [
    {
     "name": "stdout",
     "output_type": "stream",
     "text": [
      "  312.792 μs (15550 allocations: 458.08 KiB)\n"
     ]
    },
    {
     "data": {
      "text/plain": [
       "100-element Vector{BigInt}:\n",
       "                                                         1\n",
       "                                                         1\n",
       "                                                         2\n",
       "                                                         5\n",
       "                                                        14\n",
       "                                                        42\n",
       "                                                       132\n",
       "                                                       429\n",
       "                                                      1430\n",
       "                                                      4862\n",
       "                                                     16796\n",
       "                                                     58786\n",
       "                                                    208012\n",
       "                                                         ⋮\n",
       "        64633260585762914370496637486146181462681535261000\n",
       "       254224158304000796523953440778841647086547372026600\n",
       "      1000134600800354781929399250536541864362461089950800\n",
       "      3935312233584004685417853572763349509774031680023800\n",
       "     15487357822491889407128326963778343232013931127835600\n",
       "     60960876535340415751462563580829648891969728907438000\n",
       "    239993345518077005168915776623476723006280827488229600\n",
       "    944973797977428207852605870454939596837230758234904050\n",
       "   3721443204405954385563870541379246659709506697378694300\n",
       "  14657929356129575437016877846657032761712954950899755100\n",
       "  57743358069601357782187700608042856334020731624756611000\n",
       " 227508830794229349661819540395688853956041682601541047340"
      ]
     },
     "execution_count": 58,
     "metadata": {},
     "output_type": "execute_result"
    }
   ],
   "source": [
    "@btime catalan_bigint(100)"
   ]
  },
  {
   "cell_type": "code",
   "execution_count": 59,
   "id": "dd1d0a18",
   "metadata": {},
   "outputs": [
    {
     "name": "stdout",
     "output_type": "stream",
     "text": [
      "  399.875 μs (24755 allocations: 558.09 KiB)\n"
     ]
    },
    {
     "data": {
      "text/plain": [
       "100-element Vector{BigInt}:\n",
       "                                                         1\n",
       "                                                         1\n",
       "                                                         2\n",
       "                                                         5\n",
       "                                                        14\n",
       "                                                        42\n",
       "                                                       132\n",
       "                                                       429\n",
       "                                                      1430\n",
       "                                                      4862\n",
       "                                                     16796\n",
       "                                                     58786\n",
       "                                                    208012\n",
       "                                                         ⋮\n",
       "        64633260585762914370496637486146181462681535261000\n",
       "       254224158304000796523953440778841647086547372026600\n",
       "      1000134600800354781929399250536541864362461089950800\n",
       "      3935312233584004685417853572763349509774031680023800\n",
       "     15487357822491889407128326963778343232013931127835600\n",
       "     60960876535340415751462563580829648891969728907438000\n",
       "    239993345518077005168915776623476723006280827488229600\n",
       "    944973797977428207852605870454939596837230758234904050\n",
       "   3721443204405954385563870541379246659709506697378694300\n",
       "  14657929356129575437016877846657032761712954950899755100\n",
       "  57743358069601357782187700608042856334020731624756611000\n",
       " 227508830794229349661819540395688853956041682601541047340"
      ]
     },
     "execution_count": 59,
     "metadata": {},
     "output_type": "execute_result"
    }
   ],
   "source": [
    "@btime catalan_v2_bigint(100)"
   ]
  },
  {
   "cell_type": "code",
   "execution_count": null,
   "id": "72b5607a",
   "metadata": {},
   "outputs": [],
   "source": []
  }
 ],
 "metadata": {
  "kernelspec": {
   "display_name": "Julia 1.9.3",
   "language": "julia",
   "name": "julia-1.9"
  },
  "language_info": {
   "file_extension": ".jl",
   "mimetype": "application/julia",
   "name": "julia",
   "version": "1.9.3"
  }
 },
 "nbformat": 4,
 "nbformat_minor": 5
}
