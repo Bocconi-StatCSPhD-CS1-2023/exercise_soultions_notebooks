{
 "cells": [
  {
   "cell_type": "markdown",
   "id": "3b2ceb55",
   "metadata": {},
   "source": [
    "# Ex1: FizzBuzz"
   ]
  },
  {
   "cell_type": "code",
   "execution_count": 11,
   "id": "4ddec35e",
   "metadata": {},
   "outputs": [
    {
     "data": {
      "text/plain": [
       "fizzbuzz (generic function with 1 method)"
      ]
     },
     "execution_count": 11,
     "metadata": {},
     "output_type": "execute_result"
    }
   ],
   "source": [
    "function fizzbuzz(n::Int)\n",
    "    if n <= 0\n",
    "        throw(ArgumentError(\"argument 'n' must be a positive integer\"))\n",
    "    end\n",
    "    for i in 1:n\n",
    "        if i % 15 == 0\n",
    "            println(\"fizzbuzz\")\n",
    "        elseif i % 3 == 0\n",
    "            println(\"fizz\")\n",
    "        elseif i % 5 == 0\n",
    "            println(\"buzz\")\n",
    "        else \n",
    "            println(i)\n",
    "        end\n",
    "    end\n",
    "end"
   ]
  },
  {
   "cell_type": "code",
   "execution_count": 17,
   "id": "13d91673",
   "metadata": {},
   "outputs": [
    {
     "name": "stdout",
     "output_type": "stream",
     "text": [
      "1\n",
      "2\n",
      "fizz\n",
      "4\n",
      "buzz\n",
      "fizz\n",
      "7\n",
      "8\n",
      "fizz\n",
      "buzz\n"
     ]
    }
   ],
   "source": [
    "# fizzbuzz(\"one\")\n",
    "# fizzbuzz(0)\n",
    "fizzbuzz(10)"
   ]
  },
  {
   "cell_type": "markdown",
   "id": "f6d9e353",
   "metadata": {},
   "source": [
    "# Ex2: Money for nothing"
   ]
  },
  {
   "cell_type": "code",
   "execution_count": 50,
   "id": "ad184ed2",
   "metadata": {},
   "outputs": [
    {
     "data": {
      "text/plain": [
       "interest (generic function with 1 method)"
      ]
     },
     "execution_count": 50,
     "metadata": {},
     "output_type": "execute_result"
    }
   ],
   "source": [
    "function interest(x::AbstractFloat, n::Int, r::AbstractFloat)\n",
    "    if x <= 0 || n <= 0 || r <= -100\n",
    "        throw(ArgumentError(\"some of the arguments are misspecified\"))\n",
    "    end\n",
    "    return x*(1 + r/100)^n\n",
    "end"
   ]
  },
  {
   "cell_type": "code",
   "execution_count": 51,
   "id": "75ce834a",
   "metadata": {},
   "outputs": [
    {
     "data": {
      "text/plain": [
       "15.1875"
      ]
     },
     "execution_count": 51,
     "metadata": {},
     "output_type": "execute_result"
    }
   ],
   "source": [
    "interest(3.0, 4, 50.0)"
   ]
  },
  {
   "cell_type": "markdown",
   "id": "1b9b278d",
   "metadata": {},
   "source": [
    "# Ex3: Days of the week"
   ]
  },
  {
   "cell_type": "code",
   "execution_count": 46,
   "id": "b2aebe66",
   "metadata": {},
   "outputs": [
    {
     "data": {
      "text/plain": [
       "dayofweek (generic function with 1 method)"
      ]
     },
     "execution_count": 46,
     "metadata": {},
     "output_type": "execute_result"
    }
   ],
   "source": [
    "daysofweek = (\"Monday\", \"Tuesday\", \"Wednesday\", \"Thursday\", \"Friday\", \"Saturday\", \"Sunday\")\n",
    "\n",
    "function dayofweek(n::Int)\n",
    "    if !(1<=n<=7)\n",
    "        throw(ArgumentError(\"'n' must be an integer between 1 and 7\"))\n",
    "    end\n",
    "    return daysofweek[n]\n",
    "end"
   ]
  },
  {
   "cell_type": "code",
   "execution_count": 47,
   "id": "71d31303",
   "metadata": {},
   "outputs": [
    {
     "data": {
      "text/plain": [
       "\"Wednesday\""
      ]
     },
     "execution_count": 47,
     "metadata": {},
     "output_type": "execute_result"
    }
   ],
   "source": [
    "dayofweek(3)"
   ]
  },
  {
   "cell_type": "markdown",
   "id": "23dd383e",
   "metadata": {},
   "source": [
    "# Ex4: The Basel problem"
   ]
  },
  {
   "cell_type": "code",
   "execution_count": 75,
   "id": "f0cadefe",
   "metadata": {},
   "outputs": [
    {
     "data": {
      "text/plain": [
       "baselpi (generic function with 1 method)"
      ]
     },
     "execution_count": 75,
     "metadata": {},
     "output_type": "execute_result"
    }
   ],
   "source": [
    "function baselpi(n::Int)\n",
    "    if n <= 0\n",
    "        throw(ArgumentError(\"'n' must be a positive integer\"))\n",
    "    end\n",
    "    return sqrt(sum(1/i^2 for i in 1:n)*6)\n",
    "end"
   ]
  },
  {
   "cell_type": "code",
   "execution_count": 77,
   "id": "dead70f7",
   "metadata": {},
   "outputs": [
    {
     "data": {
      "text/plain": [
       "true"
      ]
     },
     "execution_count": 77,
     "metadata": {},
     "output_type": "execute_result"
    }
   ],
   "source": [
    "baselpi(100) == 3.1320765318091053"
   ]
  },
  {
   "cell_type": "code",
   "execution_count": 78,
   "id": "d24e8d9a",
   "metadata": {},
   "outputs": [
    {
     "data": {
      "text/plain": [
       "true"
      ]
     },
     "execution_count": 78,
     "metadata": {},
     "output_type": "execute_result"
    }
   ],
   "source": [
    "baselpi(1000000) == 3.1415916986605086"
   ]
  },
  {
   "cell_type": "markdown",
   "id": "42dc95f2",
   "metadata": {},
   "source": [
    "# Ex5: The Collatz conjecture (trajectory time)"
   ]
  },
  {
   "cell_type": "code",
   "execution_count": 84,
   "id": "1f51ff06",
   "metadata": {},
   "outputs": [
    {
     "data": {
      "text/plain": [
       "collatz (generic function with 1 method)"
      ]
     },
     "execution_count": 84,
     "metadata": {},
     "output_type": "execute_result"
    }
   ],
   "source": [
    "function collatz_step(m::Int)\n",
    "    if m % 2 == 0\n",
    "        return m ÷ 2\n",
    "    else\n",
    "        return m*3+1\n",
    "    end\n",
    "end\n",
    "\n",
    "function collatz(m::Int)\n",
    "    if m<=0\n",
    "        throw(ArgumentError(\"'n' must be a positive integer\"))\n",
    "    end\n",
    "    count = 0\n",
    "    while m != 1\n",
    "        m = collatz_step(m)\n",
    "        count = count + 1\n",
    "    end\n",
    "    return count\n",
    "end    "
   ]
  },
  {
   "cell_type": "code",
   "execution_count": 85,
   "id": "5a5455f9",
   "metadata": {},
   "outputs": [
    {
     "data": {
      "text/plain": [
       "9"
      ]
     },
     "execution_count": 85,
     "metadata": {},
     "output_type": "execute_result"
    }
   ],
   "source": [
    "collatz(12)"
   ]
  },
  {
   "cell_type": "code",
   "execution_count": 86,
   "id": "c9294836",
   "metadata": {},
   "outputs": [
    {
     "data": {
      "text/plain": [
       "7"
      ]
     },
     "execution_count": 86,
     "metadata": {},
     "output_type": "execute_result"
    }
   ],
   "source": [
    "collatz(20)"
   ]
  },
  {
   "cell_type": "markdown",
   "id": "975897c5",
   "metadata": {},
   "source": [
    "# Ex6: RNA Polymerase"
   ]
  },
  {
   "cell_type": "code",
   "execution_count": 19,
   "id": "80a50068",
   "metadata": {},
   "outputs": [
    {
     "data": {
      "text/plain": [
       "polymerase (generic function with 1 method)"
      ]
     },
     "execution_count": 19,
     "metadata": {},
     "output_type": "execute_result"
    }
   ],
   "source": [
    "polymerase_dict = Dict(\n",
    "    \"A\"=>\"U\",\n",
    "    \"G\"=>\"C\",\n",
    "    \"C\"=>\"G\",\n",
    "    \"T\"=>\"A\",\n",
    ")\n",
    "\n",
    "function polymerase(l::Vector{String})\n",
    "    for i in 1:length(l)\n",
    "        l[i] = polymerase_dict[l[i]]\n",
    "    end\n",
    "end"
   ]
  },
  {
   "cell_type": "code",
   "execution_count": 20,
   "id": "0a4eaadd",
   "metadata": {},
   "outputs": [
    {
     "data": {
      "text/plain": [
       "7-element Vector{String}:\n",
       " \"C\"\n",
       " \"U\"\n",
       " \"A\"\n",
       " \"A\"\n",
       " \"U\"\n",
       " \"G\"\n",
       " \"U\""
      ]
     },
     "execution_count": 20,
     "metadata": {},
     "output_type": "execute_result"
    }
   ],
   "source": [
    "l = [\"G\", \"A\", \"T\", \"T\", \"A\", \"C\", \"A\"]\n",
    "polymerase(l)\n",
    "l"
   ]
  },
  {
   "cell_type": "code",
   "execution_count": 24,
   "id": "a6914cab",
   "metadata": {},
   "outputs": [],
   "source": [
    "polymerase(String[])"
   ]
  },
  {
   "cell_type": "markdown",
   "id": "f4caf405",
   "metadata": {},
   "source": [
    "# Ex7: Hamming distance"
   ]
  },
  {
   "cell_type": "code",
   "execution_count": 24,
   "id": "cd05bff3",
   "metadata": {},
   "outputs": [
    {
     "data": {
      "text/plain": [
       "hammingdist (generic function with 1 method)"
      ]
     },
     "execution_count": 24,
     "metadata": {},
     "output_type": "execute_result"
    }
   ],
   "source": [
    "function hammingdist(l1::T, l2::T) where T <: Union{String, Vector}\n",
    "    length(l1) != length(l2) && throw(ArgumentError(\"arguments must be the same length\"))\n",
    "    length(l1) == 0 && return 0\n",
    "    return sum(c1 != c2 for (c1, c2) in zip(l1, l2))\n",
    "end"
   ]
  },
  {
   "cell_type": "code",
   "execution_count": 25,
   "id": "af24280c",
   "metadata": {},
   "outputs": [
    {
     "data": {
      "text/plain": [
       "2"
      ]
     },
     "execution_count": 25,
     "metadata": {},
     "output_type": "execute_result"
    }
   ],
   "source": [
    "hammingdist(\"🍕castle🍕\", \"🍕battle🍕\")"
   ]
  },
  {
   "cell_type": "code",
   "execution_count": 26,
   "id": "f1c5868f",
   "metadata": {},
   "outputs": [
    {
     "data": {
      "text/plain": [
       "3"
      ]
     },
     "execution_count": 26,
     "metadata": {},
     "output_type": "execute_result"
    }
   ],
   "source": [
    "hammingdist([0, 3, 2, 1, 0], [0, 1, 2, 3, 1])"
   ]
  },
  {
   "cell_type": "code",
   "execution_count": 27,
   "id": "56efd3dc",
   "metadata": {},
   "outputs": [
    {
     "data": {
      "text/plain": [
       "0"
      ]
     },
     "execution_count": 27,
     "metadata": {},
     "output_type": "execute_result"
    }
   ],
   "source": [
    "hammingdist([], [])"
   ]
  },
  {
   "cell_type": "code",
   "execution_count": 13,
   "id": "dd541c16",
   "metadata": {},
   "outputs": [
    {
     "ename": "LoadError",
     "evalue": "MethodError: no method matching hammingdist(::String, ::Vector{Char})\n\n\u001b[0mClosest candidates are:\n\u001b[0m  hammingdist(::T, \u001b[91m::T\u001b[39m) where T<:Union{String, Vector}\n\u001b[0m\u001b[90m   @\u001b[39m \u001b[35mMain\u001b[39m \u001b[90m\u001b[4mIn[8]:1\u001b[24m\u001b[39m\n",
     "output_type": "error",
     "traceback": [
      "MethodError: no method matching hammingdist(::String, ::Vector{Char})\n\n\u001b[0mClosest candidates are:\n\u001b[0m  hammingdist(::T, \u001b[91m::T\u001b[39m) where T<:Union{String, Vector}\n\u001b[0m\u001b[90m   @\u001b[39m \u001b[35mMain\u001b[39m \u001b[90m\u001b[4mIn[8]:1\u001b[24m\u001b[39m\n",
      "",
      "Stacktrace:",
      " [1] top-level scope",
      "   @ In[13]:1"
     ]
    }
   ],
   "source": [
    "hammingdist(\"abc\", ['a','b','c'])"
   ]
  },
  {
   "cell_type": "markdown",
   "id": "d892fc8a",
   "metadata": {},
   "source": [
    "# Ex8: p-norm"
   ]
  },
  {
   "cell_type": "code",
   "execution_count": 67,
   "id": "b30e0c13",
   "metadata": {},
   "outputs": [
    {
     "data": {
      "text/plain": [
       "pnorm (generic function with 4 methods)"
      ]
     },
     "execution_count": 67,
     "metadata": {},
     "output_type": "execute_result"
    }
   ],
   "source": [
    "function pnorm(v::Vector{<:Real}, p::Real=2)\n",
    "    p <= 0 && throw(ArgumentError(\"'p' must be a positive real number\"))\n",
    "    return sum(abs(x)^p for x in v)^(1/p)\n",
    "end"
   ]
  },
  {
   "cell_type": "code",
   "execution_count": 69,
   "id": "a3226fda",
   "metadata": {},
   "outputs": [
    {
     "data": {
      "text/plain": [
       "5.0"
      ]
     },
     "execution_count": 69,
     "metadata": {},
     "output_type": "execute_result"
    }
   ],
   "source": [
    "pnorm([3, 4])"
   ]
  },
  {
   "cell_type": "code",
   "execution_count": 74,
   "id": "899f55a7",
   "metadata": {},
   "outputs": [
    {
     "ename": "LoadError",
     "evalue": "ArgumentError: 'p' must be a positive real number",
     "output_type": "error",
     "traceback": [
      "ArgumentError: 'p' must be a positive real number",
      "",
      "Stacktrace:",
      " [1] pnorm(v::Vector{Int64}, p::Int64)",
      "   @ Main ./In[67]:2",
      " [2] top-level scope",
      "   @ In[74]:1"
     ]
    }
   ],
   "source": [
    "pnorm([3, -4, -8], -1)"
   ]
  },
  {
   "cell_type": "code",
   "execution_count": 72,
   "id": "395737df",
   "metadata": {},
   "outputs": [
    {
     "data": {
      "text/plain": [
       "10.867072659651457"
      ]
     },
     "execution_count": 72,
     "metadata": {},
     "output_type": "execute_result"
    }
   ],
   "source": [
    "pnorm([3, -4, -8], 1.5)"
   ]
  },
  {
   "cell_type": "code",
   "execution_count": 73,
   "id": "01e934c1",
   "metadata": {},
   "outputs": [
    {
     "data": {
      "text/plain": [
       "8.000824862104528"
      ]
     },
     "execution_count": 73,
     "metadata": {},
     "output_type": "execute_result"
    }
   ],
   "source": [
    "pnorm([3, -4, -8], 10.0)"
   ]
  },
  {
   "cell_type": "markdown",
   "id": "69efe0df",
   "metadata": {},
   "source": [
    "# Ex9: Riemann integral"
   ]
  },
  {
   "cell_type": "code",
   "execution_count": 86,
   "id": "3199c274",
   "metadata": {},
   "outputs": [
    {
     "data": {
      "text/plain": [
       "riemann (generic function with 2 methods)"
      ]
     },
     "execution_count": 86,
     "metadata": {},
     "output_type": "execute_result"
    }
   ],
   "source": [
    "f(x::Real) = x^2 + 1\n",
    "\n",
    "function riemann(a::AbstractFloat, b::AbstractFloat, n::Integer=1000)\n",
    "    n <= 0 && throw(ArgumentError(\"'n' must be a positive integer\"))\n",
    "    dx = (b - a)/n\n",
    "    return sum(f(a + (i-1)*dx)*dx for i in 1:n)\n",
    "end"
   ]
  },
  {
   "cell_type": "code",
   "execution_count": 87,
   "id": "32e6f941",
   "metadata": {},
   "outputs": [
    {
     "data": {
      "text/plain": [
       "5.95545"
      ]
     },
     "execution_count": 87,
     "metadata": {},
     "output_type": "execute_result"
    }
   ],
   "source": [
    "riemann(-1.0, 2.0, 100)"
   ]
  },
  {
   "cell_type": "code",
   "execution_count": 88,
   "id": "9c84e6f1",
   "metadata": {},
   "outputs": [
    {
     "data": {
      "text/plain": [
       "5.995504500000001"
      ]
     },
     "execution_count": 88,
     "metadata": {},
     "output_type": "execute_result"
    }
   ],
   "source": [
    "riemann(-1.0, 2.0)"
   ]
  },
  {
   "cell_type": "markdown",
   "id": "08e00c09",
   "metadata": {},
   "source": [
    "# Ex10: Recamán sequence 2"
   ]
  },
  {
   "cell_type": "code",
   "execution_count": 95,
   "id": "8d8453d6",
   "metadata": {},
   "outputs": [
    {
     "data": {
      "text/plain": [
       "recaman2 (generic function with 1 method)"
      ]
     },
     "execution_count": 95,
     "metadata": {},
     "output_type": "execute_result"
    }
   ],
   "source": [
    "function recaman2(n::Integer)\n",
    "    n <= 0 && throw(ArgumentError(\"'n' must be a positive integer\"))\n",
    "    a = 1\n",
    "    for i in 1:n-1\n",
    "        a % i == 0 ? a ÷= i : a *= i\n",
    "    end\n",
    "    return a\n",
    "end"
   ]
  },
  {
   "cell_type": "code",
   "execution_count": 99,
   "id": "2ea6931b",
   "metadata": {},
   "outputs": [
    {
     "ename": "LoadError",
     "evalue": "ArgumentError: 'n' must be a positive integer",
     "output_type": "error",
     "traceback": [
      "ArgumentError: 'n' must be a positive integer",
      "",
      "Stacktrace:",
      " [1] recaman2(n::Int64)",
      "   @ Main ./In[95]:2",
      " [2] top-level scope",
      "   @ In[99]:1"
     ]
    }
   ],
   "source": [
    "recaman2(0)"
   ]
  },
  {
   "cell_type": "code",
   "execution_count": 98,
   "id": "7abbdc03",
   "metadata": {},
   "outputs": [
    {
     "data": {
      "text/plain": [
       "20"
      ]
     },
     "execution_count": 98,
     "metadata": {},
     "output_type": "execute_result"
    }
   ],
   "source": [
    "recaman2(7)"
   ]
  },
  {
   "cell_type": "markdown",
   "id": "bcb6dbaa",
   "metadata": {},
   "source": [
    "# Ex11: Mean and standard deviation"
   ]
  },
  {
   "cell_type": "code",
   "execution_count": 108,
   "id": "958d98a1",
   "metadata": {},
   "outputs": [
    {
     "data": {
      "text/plain": [
       "meanstd (generic function with 1 method)"
      ]
     },
     "execution_count": 108,
     "metadata": {},
     "output_type": "execute_result"
    }
   ],
   "source": [
    "function meanstd(l::Vector{<:Real})\n",
    "    n = length(l)\n",
    "    n < 2 && throw(ArgumentError(\"'l' must be a list with at least 2 elements\"))\n",
    "    mean = sum(l)/n\n",
    "    sigma = √(sum((x-mean)^2 for x in l)/(n-1))\n",
    "    return (mean, sigma)\n",
    "end"
   ]
  },
  {
   "cell_type": "code",
   "execution_count": 109,
   "id": "7c462a54",
   "metadata": {},
   "outputs": [
    {
     "data": {
      "text/plain": [
       "(-1.0, 3.1885210782848317)"
      ]
     },
     "execution_count": 109,
     "metadata": {},
     "output_type": "execute_result"
    }
   ],
   "source": [
    "meanstd([3.5, -3.0, -3.5, -1.0])"
   ]
  },
  {
   "cell_type": "markdown",
   "id": "b96daf62",
   "metadata": {},
   "source": [
    "# Ex 12: Narcissistic numbers"
   ]
  },
  {
   "cell_type": "code",
   "execution_count": 7,
   "id": "75a9dd53",
   "metadata": {},
   "outputs": [
    {
     "data": {
      "text/plain": [
       "isnarc (generic function with 1 method)"
      ]
     },
     "execution_count": 7,
     "metadata": {},
     "output_type": "execute_result"
    }
   ],
   "source": [
    "function isnarc(l::Vector{<:Integer}, b::Integer)\n",
    "    n = length(l)\n",
    "    (b <= 1 || n == 0) && throw(ArgumentError(\"'b' must be integer > 1, and n must be non-empty list of integers\"))\n",
    "    return sum(x^n for x in l) == sum(x * b^(i-1) for (i, x) in enumerate(l))\n",
    "end"
   ]
  },
  {
   "cell_type": "code",
   "execution_count": 11,
   "id": "eb794773",
   "metadata": {},
   "outputs": [
    {
     "data": {
      "text/plain": [
       "false"
      ]
     },
     "execution_count": 11,
     "metadata": {},
     "output_type": "execute_result"
    }
   ],
   "source": [
    "isnarc([1, 4, 2], 10)"
   ]
  },
  {
   "cell_type": "code",
   "execution_count": 12,
   "id": "4ae25ec2",
   "metadata": {},
   "outputs": [
    {
     "data": {
      "text/plain": [
       "true"
      ]
     },
     "execution_count": 12,
     "metadata": {},
     "output_type": "execute_result"
    }
   ],
   "source": [
    "isnarc([2, 2, 1], 3)"
   ]
  },
  {
   "cell_type": "code",
   "execution_count": 14,
   "id": "a69a8af5",
   "metadata": {},
   "outputs": [
    {
     "data": {
      "text/plain": [
       "true"
      ]
     },
     "execution_count": 14,
     "metadata": {},
     "output_type": "execute_result"
    }
   ],
   "source": [
    "isnarc([3, 5, 1], 10)"
   ]
  },
  {
   "cell_type": "markdown",
   "id": "2f66ee27",
   "metadata": {},
   "source": [
    "# Ex13: Relative primes"
   ]
  },
  {
   "cell_type": "code",
   "execution_count": 25,
   "id": "e92a38a8",
   "metadata": {},
   "outputs": [
    {
     "data": {
      "text/plain": [
       "relprime (generic function with 1 method)"
      ]
     },
     "execution_count": 25,
     "metadata": {},
     "output_type": "execute_result"
    }
   ],
   "source": [
    "function relprime(a::Integer, b::Integer)\n",
    "    (a < 1 || b < 1) && throw(ArgumentError(\"'a' and 'b' must be positive integers\"))\n",
    "    for k in 2:min(a, b)\n",
    "        a % k == 0 && b % k == 0 && return false\n",
    "    end\n",
    "    return true\n",
    "end"
   ]
  },
  {
   "cell_type": "code",
   "execution_count": 26,
   "id": "59737e08",
   "metadata": {},
   "outputs": [
    {
     "data": {
      "text/plain": [
       "true"
      ]
     },
     "execution_count": 26,
     "metadata": {},
     "output_type": "execute_result"
    }
   ],
   "source": [
    "relprime(3, 5)"
   ]
  },
  {
   "cell_type": "code",
   "execution_count": 27,
   "id": "68264d25",
   "metadata": {},
   "outputs": [
    {
     "data": {
      "text/plain": [
       "false"
      ]
     },
     "execution_count": 27,
     "metadata": {},
     "output_type": "execute_result"
    }
   ],
   "source": [
    "relprime(27, 9)"
   ]
  },
  {
   "cell_type": "markdown",
   "id": "9c3d4b99",
   "metadata": {},
   "source": [
    "# Ex14: Procustean strings "
   ]
  },
  {
   "cell_type": "code",
   "execution_count": 65,
   "id": "e2092b97",
   "metadata": {},
   "outputs": [
    {
     "data": {
      "text/plain": [
       "procustize (generic function with 1 method)"
      ]
     },
     "execution_count": 65,
     "metadata": {},
     "output_type": "execute_result"
    }
   ],
   "source": [
    "function procustize(s::String, n::Integer)\n",
    "    n < 0 && throw(ArgumentError(\"'n' must be a non-negative integer\"))\n",
    "    len = length(s)\n",
    "    if n >= len\n",
    "        return s * \" \" ^ (n - len)\n",
    "    elseif n == 0\n",
    "        return \"\"\n",
    "    else\n",
    "        return join(collect(s)[1:n])\n",
    "    end\n",
    "end"
   ]
  },
  {
   "cell_type": "code",
   "execution_count": 66,
   "id": "e8148abf",
   "metadata": {},
   "outputs": [
    {
     "data": {
      "text/plain": [
       "\"hell\""
      ]
     },
     "execution_count": 66,
     "metadata": {},
     "output_type": "execute_result"
    }
   ],
   "source": [
    "procustize(\"hello\", 4)"
   ]
  },
  {
   "cell_type": "code",
   "execution_count": 67,
   "id": "b113566a",
   "metadata": {},
   "outputs": [
    {
     "data": {
      "text/plain": [
       "\"hello   \""
      ]
     },
     "execution_count": 67,
     "metadata": {},
     "output_type": "execute_result"
    }
   ],
   "source": [
    "procustize(\"hello\", 8)"
   ]
  },
  {
   "cell_type": "code",
   "execution_count": 70,
   "id": "e970c6b0",
   "metadata": {},
   "outputs": [
    {
     "data": {
      "text/plain": [
       "\"\""
      ]
     },
     "execution_count": 70,
     "metadata": {},
     "output_type": "execute_result"
    }
   ],
   "source": [
    "procustize(\"hello\", 0)"
   ]
  },
  {
   "cell_type": "code",
   "execution_count": 71,
   "id": "7069b858",
   "metadata": {},
   "outputs": [
    {
     "data": {
      "text/plain": [
       "\"🍕cas\""
      ]
     },
     "execution_count": 71,
     "metadata": {},
     "output_type": "execute_result"
    }
   ],
   "source": [
    "procustize(\"🍕castle🍕\", 4)"
   ]
  },
  {
   "cell_type": "markdown",
   "id": "720e5dbb",
   "metadata": {},
   "source": [
    "# Ex15: Fermat’s pseudo-primality test"
   ]
  },
  {
   "cell_type": "code",
   "execution_count": 100,
   "id": "c519b269",
   "metadata": {},
   "outputs": [
    {
     "data": {
      "text/plain": [
       "fermatpseudo (generic function with 1 method)"
      ]
     },
     "execution_count": 100,
     "metadata": {},
     "output_type": "execute_result"
    }
   ],
   "source": [
    "function fermatpseudo(p::Integer)\n",
    "    p <= 1 && throw(ArgumentError(\"'p' must be a integer > 1\"))\n",
    "    for a in 1:p-1\n",
    "        (BigInt(a)^p - a) % p == 0 || return false\n",
    "    end\n",
    "    return true\n",
    "end"
   ]
  },
  {
   "cell_type": "code",
   "execution_count": 101,
   "id": "8ff3a5ec",
   "metadata": {},
   "outputs": [
    {
     "data": {
      "text/plain": [
       "true"
      ]
     },
     "execution_count": 101,
     "metadata": {},
     "output_type": "execute_result"
    }
   ],
   "source": [
    "fermatpseudo(5)"
   ]
  },
  {
   "cell_type": "code",
   "execution_count": 102,
   "id": "3f67f93f",
   "metadata": {},
   "outputs": [
    {
     "data": {
      "text/plain": [
       "false"
      ]
     },
     "execution_count": 102,
     "metadata": {},
     "output_type": "execute_result"
    }
   ],
   "source": [
    "fermatpseudo(6)"
   ]
  },
  {
   "cell_type": "code",
   "execution_count": 103,
   "id": "824aa389",
   "metadata": {},
   "outputs": [
    {
     "data": {
      "text/plain": [
       "true"
      ]
     },
     "execution_count": 103,
     "metadata": {},
     "output_type": "execute_result"
    }
   ],
   "source": [
    "fermatpseudo(97)"
   ]
  },
  {
   "cell_type": "code",
   "execution_count": 104,
   "id": "70e4284c",
   "metadata": {},
   "outputs": [
    {
     "data": {
      "text/plain": [
       "true"
      ]
     },
     "execution_count": 104,
     "metadata": {},
     "output_type": "execute_result"
    }
   ],
   "source": [
    "fermatpseudo(561)"
   ]
  },
  {
   "cell_type": "code",
   "execution_count": null,
   "id": "78c23aa1",
   "metadata": {},
   "outputs": [],
   "source": []
  }
 ],
 "metadata": {
  "kernelspec": {
   "display_name": "Julia 1.9.3",
   "language": "julia",
   "name": "julia-1.9"
  },
  "language_info": {
   "file_extension": ".jl",
   "mimetype": "application/julia",
   "name": "julia",
   "version": "1.9.3"
  }
 },
 "nbformat": 4,
 "nbformat_minor": 5
}
