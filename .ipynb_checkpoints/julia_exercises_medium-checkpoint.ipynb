{
 "cells": [
  {
   "cell_type": "markdown",
   "id": "33fc92b6",
   "metadata": {},
   "source": [
    "# Ex1: Draw a triangle"
   ]
  },
  {
   "cell_type": "code",
   "execution_count": 15,
   "id": "852c6fae",
   "metadata": {},
   "outputs": [
    {
     "data": {
      "text/plain": [
       "drawtri (generic function with 1 method)"
      ]
     },
     "execution_count": 15,
     "metadata": {},
     "output_type": "execute_result"
    }
   ],
   "source": [
    "function drawtri(n::Integer)\n",
    "    n < 0 && throw(ArgumentError(\"'n' must be a non-negative integer\"))\n",
    "    println(\"o\")\n",
    "    for i in 0:n-1\n",
    "        println(\"|\", \" \"^i, \"\\\\\")\n",
    "    end\n",
    "    println(\"o\", \"-\"^n, \"o\")\n",
    "end"
   ]
  },
  {
   "cell_type": "code",
   "execution_count": 16,
   "id": "70e9959c",
   "metadata": {},
   "outputs": [
    {
     "name": "stdout",
     "output_type": "stream",
     "text": [
      "o\n",
      "oo\n"
     ]
    }
   ],
   "source": [
    "drawtri(0)"
   ]
  },
  {
   "cell_type": "code",
   "execution_count": 17,
   "id": "9c86a75d",
   "metadata": {},
   "outputs": [
    {
     "name": "stdout",
     "output_type": "stream",
     "text": [
      "o\n",
      "|\\\n",
      "o-o\n"
     ]
    }
   ],
   "source": [
    "drawtri(1)"
   ]
  },
  {
   "cell_type": "code",
   "execution_count": 19,
   "id": "0cc1c952",
   "metadata": {},
   "outputs": [
    {
     "name": "stdout",
     "output_type": "stream",
     "text": [
      "o\n",
      "|\\\n",
      "| \\\n",
      "|  \\\n",
      "|   \\\n",
      "|    \\\n",
      "o-----o\n"
     ]
    }
   ],
   "source": [
    "drawtri(5)"
   ]
  },
  {
   "cell_type": "markdown",
   "id": "8c1fc5e2",
   "metadata": {},
   "source": [
    "# Ex2: Revert a list"
   ]
  },
  {
   "cell_type": "code",
   "execution_count": 24,
   "id": "01c41071",
   "metadata": {},
   "outputs": [
    {
     "data": {
      "text/plain": [
       "revert (generic function with 1 method)"
      ]
     },
     "execution_count": 24,
     "metadata": {},
     "output_type": "execute_result"
    }
   ],
   "source": [
    "function revert(v::Vector{<:Any})\n",
    "    len = length(v)\n",
    "    l = 1\n",
    "    r = len\n",
    "    while l < r\n",
    "        t = v[l]\n",
    "        v[l] = v[r]\n",
    "        v[r] = t\n",
    "        l += 1\n",
    "        r -= 1\n",
    "    end\n",
    "end    "
   ]
  },
  {
   "cell_type": "code",
   "execution_count": 25,
   "id": "8e993842",
   "metadata": {},
   "outputs": [
    {
     "data": {
      "text/plain": [
       "3-element Vector{Int64}:\n",
       " 7\n",
       " 5\n",
       " 1"
      ]
     },
     "execution_count": 25,
     "metadata": {},
     "output_type": "execute_result"
    }
   ],
   "source": [
    "l = [1, 5, 7]\n",
    "revert(l)\n",
    "l"
   ]
  },
  {
   "cell_type": "code",
   "execution_count": 28,
   "id": "0ff0d63d",
   "metadata": {},
   "outputs": [
    {
     "data": {
      "text/plain": [
       "6-element Vector{String}:\n",
       " \"g\"\n",
       " \"o\"\n",
       " \"b\"\n",
       " \"l\"\n",
       " \"i\"\n",
       " \"n\""
      ]
     },
     "execution_count": 28,
     "metadata": {},
     "output_type": "execute_result"
    }
   ],
   "source": [
    "l = [\"n\", \"i\", \"l\", \"b\", \"o\", \"g\"]\n",
    "revert(l)\n",
    "l"
   ]
  },
  {
   "cell_type": "markdown",
   "id": "733b7b1f",
   "metadata": {},
   "source": [
    "# Ex3: Fibonacci numbers and the Golden ratio"
   ]
  },
  {
   "cell_type": "code",
   "execution_count": 45,
   "id": "6ae657d6",
   "metadata": {},
   "outputs": [
    {
     "data": {
      "text/plain": [
       "approxphi (generic function with 1 method)"
      ]
     },
     "execution_count": 45,
     "metadata": {},
     "output_type": "execute_result"
    }
   ],
   "source": [
    "function approxphi(n::Integer)::Float64\n",
    "    n < 0 && throw(ArgumentError(\"'n' must be a non-negative integer\"))\n",
    "    a = BigInt(1)\n",
    "    b = BigInt(1)\n",
    "    for i in 2:n\n",
    "        t = b\n",
    "        b = a + b\n",
    "        a = t\n",
    "    end\n",
    "    return Float64(b/a)\n",
    "end"
   ]
  },
  {
   "cell_type": "code",
   "execution_count": 46,
   "id": "a0cd1de9",
   "metadata": {},
   "outputs": [
    {
     "data": {
      "text/plain": [
       "1.0"
      ]
     },
     "execution_count": 46,
     "metadata": {},
     "output_type": "execute_result"
    }
   ],
   "source": [
    "approxphi(1)"
   ]
  },
  {
   "cell_type": "code",
   "execution_count": 47,
   "id": "350fbbe1",
   "metadata": {},
   "outputs": [
    {
     "data": {
      "text/plain": [
       "1.5"
      ]
     },
     "execution_count": 47,
     "metadata": {},
     "output_type": "execute_result"
    }
   ],
   "source": [
    "approxphi(3)"
   ]
  },
  {
   "cell_type": "code",
   "execution_count": 48,
   "id": "20557706",
   "metadata": {},
   "outputs": [
    {
     "data": {
      "text/plain": [
       "1.618033988749895"
      ]
     },
     "execution_count": 48,
     "metadata": {},
     "output_type": "execute_result"
    }
   ],
   "source": [
    "approxphi(100)"
   ]
  },
  {
   "cell_type": "markdown",
   "id": "89e7c497",
   "metadata": {},
   "source": [
    "# Ex4: Run-length decoding"
   ]
  },
  {
   "cell_type": "code",
   "execution_count": 1,
   "id": "24c5b719",
   "metadata": {},
   "outputs": [
    {
     "data": {
      "text/plain": [
       "rl_decode (generic function with 1 method)"
      ]
     },
     "execution_count": 1,
     "metadata": {},
     "output_type": "execute_result"
    }
   ],
   "source": [
    "function rl_decode(l::Vector)\n",
    "    res = \"\"\n",
    "    for i in 1:2:length(l)\n",
    "        res *= l[i+1]^l[i]\n",
    "    end\n",
    "    return res\n",
    "end"
   ]
  },
  {
   "cell_type": "code",
   "execution_count": 2,
   "id": "cb59c2c1",
   "metadata": {},
   "outputs": [
    {
     "data": {
      "text/plain": [
       "\"AAABCCD\""
      ]
     },
     "execution_count": 2,
     "metadata": {},
     "output_type": "execute_result"
    }
   ],
   "source": [
    "rl_decode([3, 'A', 1, 'B', 2, 'C', 1, 'D'])"
   ]
  },
  {
   "cell_type": "code",
   "execution_count": 3,
   "id": "ad0b0a58",
   "metadata": {},
   "outputs": [
    {
     "data": {
      "text/plain": [
       "\"1115555\""
      ]
     },
     "execution_count": 3,
     "metadata": {},
     "output_type": "execute_result"
    }
   ],
   "source": [
    "rl_decode([3, '1', 4, '5'])"
   ]
  },
  {
   "cell_type": "code",
   "execution_count": 4,
   "id": "9c75d835",
   "metadata": {},
   "outputs": [
    {
     "data": {
      "text/plain": [
       "\"\""
      ]
     },
     "execution_count": 4,
     "metadata": {},
     "output_type": "execute_result"
    }
   ],
   "source": [
    "rl_decode([])"
   ]
  },
  {
   "cell_type": "markdown",
   "id": "bb617d47",
   "metadata": {},
   "source": [
    "# Ex5: Arnold’s cat"
   ]
  },
  {
   "cell_type": "code",
   "execution_count": 6,
   "id": "4593d5e5",
   "metadata": {},
   "outputs": [
    {
     "data": {
      "text/plain": [
       "catmap (generic function with 1 method)"
      ]
     },
     "execution_count": 6,
     "metadata": {},
     "output_type": "execute_result"
    }
   ],
   "source": [
    "function catmap(x::Int, y::Int, n::Int)\n",
    "    return ((2 * x + y) % n, (x + y) % n)\n",
    "end"
   ]
  },
  {
   "cell_type": "code",
   "execution_count": 9,
   "id": "8e9edf99",
   "metadata": {},
   "outputs": [
    {
     "data": {
      "text/plain": [
       "(4, 6)"
      ]
     },
     "execution_count": 9,
     "metadata": {},
     "output_type": "execute_result"
    }
   ],
   "source": [
    "catmap(5, 1, 7)"
   ]
  },
  {
   "cell_type": "code",
   "execution_count": 10,
   "id": "904e564b",
   "metadata": {},
   "outputs": [
    {
     "data": {
      "text/plain": [
       "catperiod (generic function with 1 method)"
      ]
     },
     "execution_count": 10,
     "metadata": {},
     "output_type": "execute_result"
    }
   ],
   "source": [
    "function catperiod(x::Int, y::Int, n::Int)\n",
    "    initial = (x, y)\n",
    "    x, y = catmap(x, y, n)\n",
    "    n_iter = 1\n",
    "    while (x, y) != initial\n",
    "        x, y = catmap(x, y, n)\n",
    "        n_iter += 1\n",
    "    end\n",
    "    return n_iter\n",
    "end"
   ]
  },
  {
   "cell_type": "code",
   "execution_count": 11,
   "id": "99aed46f",
   "metadata": {},
   "outputs": [
    {
     "data": {
      "text/plain": [
       "1"
      ]
     },
     "execution_count": 11,
     "metadata": {},
     "output_type": "execute_result"
    }
   ],
   "source": [
    "catperiod(0, 0, 7)"
   ]
  },
  {
   "cell_type": "code",
   "execution_count": 12,
   "id": "bb47ce3d",
   "metadata": {},
   "outputs": [
    {
     "data": {
      "text/plain": [
       "8"
      ]
     },
     "execution_count": 12,
     "metadata": {},
     "output_type": "execute_result"
    }
   ],
   "source": [
    "catperiod(5, 1, 7)"
   ]
  },
  {
   "cell_type": "code",
   "execution_count": 13,
   "id": "47f5768b",
   "metadata": {},
   "outputs": [
    {
     "data": {
      "text/plain": [
       "12"
      ]
     },
     "execution_count": 13,
     "metadata": {},
     "output_type": "execute_result"
    }
   ],
   "source": [
    "catperiod(2, 3, 9)"
   ]
  },
  {
   "cell_type": "markdown",
   "id": "d0d94734",
   "metadata": {},
   "source": [
    "# Ex6: Local minima of a list"
   ]
  },
  {
   "cell_type": "code",
   "execution_count": 25,
   "id": "e308fc77",
   "metadata": {},
   "outputs": [
    {
     "data": {
      "text/plain": [
       "localmin (generic function with 1 method)"
      ]
     },
     "execution_count": 25,
     "metadata": {},
     "output_type": "execute_result"
    }
   ],
   "source": [
    "function localmin(v::Vector{<:Real})\n",
    "    local_mins = Int[]\n",
    "    len = length(v)\n",
    "    for i in 1:len\n",
    "        i != 1 && v[i] > v[i-1] && continue\n",
    "        i != len && v[i] > v[i+1] && continue\n",
    "        push!(local_mins, i)\n",
    "    end\n",
    "    return local_mins\n",
    "end"
   ]
  },
  {
   "cell_type": "code",
   "execution_count": 26,
   "id": "1faad9d4",
   "metadata": {},
   "outputs": [
    {
     "data": {
      "text/plain": [
       "Int64[]"
      ]
     },
     "execution_count": 26,
     "metadata": {},
     "output_type": "execute_result"
    }
   ],
   "source": [
    "localmin(Real[])"
   ]
  },
  {
   "cell_type": "code",
   "execution_count": 27,
   "id": "80bbdbf9",
   "metadata": {},
   "outputs": [
    {
     "data": {
      "text/plain": [
       "1-element Vector{Int64}:\n",
       " 1"
      ]
     },
     "execution_count": 27,
     "metadata": {},
     "output_type": "execute_result"
    }
   ],
   "source": [
    "localmin([5])"
   ]
  },
  {
   "cell_type": "code",
   "execution_count": 28,
   "id": "99cceafc",
   "metadata": {},
   "outputs": [
    {
     "data": {
      "text/plain": [
       "2-element Vector{Int64}:\n",
       " 3\n",
       " 7"
      ]
     },
     "execution_count": 28,
     "metadata": {},
     "output_type": "execute_result"
    }
   ],
   "source": [
    "localmin([3, 2, 0, 1, 5, 8, 7])"
   ]
  },
  {
   "cell_type": "code",
   "execution_count": 29,
   "id": "a30f100d",
   "metadata": {},
   "outputs": [
    {
     "data": {
      "text/plain": [
       "4-element Vector{Int64}:\n",
       " 1\n",
       " 2\n",
       " 3\n",
       " 4"
      ]
     },
     "execution_count": 29,
     "metadata": {},
     "output_type": "execute_result"
    }
   ],
   "source": [
    "localmin([2, 2, 2, 2])"
   ]
  },
  {
   "cell_type": "markdown",
   "id": "08595226",
   "metadata": {},
   "source": [
    "# Ex7: Atbash cipher"
   ]
  },
  {
   "cell_type": "code",
   "execution_count": 47,
   "id": "3bc559e0",
   "metadata": {},
   "outputs": [
    {
     "data": {
      "text/plain": [
       "atbash (generic function with 1 method)"
      ]
     },
     "execution_count": 47,
     "metadata": {},
     "output_type": "execute_result"
    }
   ],
   "source": [
    "function atbashmap(c::Char)\n",
    "    return Char(219 - Int(c))\n",
    "end\n",
    "\n",
    "function atbash(s::String)\n",
    "    return join(atbashmap(c) for c in collect(s))\n",
    "end"
   ]
  },
  {
   "cell_type": "code",
   "execution_count": 48,
   "id": "dc3ed24d",
   "metadata": {},
   "outputs": [
    {
     "data": {
      "text/plain": [
       "\"zyx\""
      ]
     },
     "execution_count": 48,
     "metadata": {},
     "output_type": "execute_result"
    }
   ],
   "source": [
    "atbash(\"abc\")"
   ]
  },
  {
   "cell_type": "code",
   "execution_count": 49,
   "id": "223ad66f",
   "metadata": {},
   "outputs": [
    {
     "data": {
      "text/plain": [
       "\"zyxwvutsrqponmlkjihgfedcba\""
      ]
     },
     "execution_count": 49,
     "metadata": {},
     "output_type": "execute_result"
    }
   ],
   "source": [
    "atbash(\"abcdefghijklmnopqrstuvwxyz\")"
   ]
  },
  {
   "cell_type": "code",
   "execution_count": 50,
   "id": "b3aa2a14",
   "metadata": {},
   "outputs": [
    {
     "data": {
      "text/plain": [
       "\"twice\""
      ]
     },
     "execution_count": 50,
     "metadata": {},
     "output_type": "execute_result"
    }
   ],
   "source": [
    "atbash(atbash(\"twice\"))"
   ]
  },
  {
   "cell_type": "markdown",
   "id": "30adfce0",
   "metadata": {},
   "source": [
    "# Ex8: Leibniz pie"
   ]
  },
  {
   "cell_type": "code",
   "execution_count": 56,
   "id": "e46b8d36",
   "metadata": {},
   "outputs": [
    {
     "data": {
      "text/plain": [
       "leibnizpi (generic function with 1 method)"
      ]
     },
     "execution_count": 56,
     "metadata": {},
     "output_type": "execute_result"
    }
   ],
   "source": [
    "function leibnizpi(n::Int)\n",
    "    n < 1 && throw(ArgumentError(\"'n' must be a positive integer\"))\n",
    "    return 4 * sum((-1)^(i + 1) / (2*i - 1) for i in 1:n)\n",
    "end"
   ]
  },
  {
   "cell_type": "code",
   "execution_count": 57,
   "id": "57870ba2",
   "metadata": {},
   "outputs": [
    {
     "data": {
      "text/plain": [
       "4.0"
      ]
     },
     "execution_count": 57,
     "metadata": {},
     "output_type": "execute_result"
    }
   ],
   "source": [
    "leibnizpi(1)"
   ]
  },
  {
   "cell_type": "code",
   "execution_count": 61,
   "id": "52135ec9",
   "metadata": {},
   "outputs": [
    {
     "data": {
      "text/plain": [
       "true"
      ]
     },
     "execution_count": 61,
     "metadata": {},
     "output_type": "execute_result"
    }
   ],
   "source": [
    "leibnizpi(10000) == 3.1414926535900345"
   ]
  },
  {
   "cell_type": "markdown",
   "id": "2eed8dc4",
   "metadata": {},
   "source": [
    "# Ex9: A list through a list"
   ]
  },
  {
   "cell_type": "code",
   "execution_count": null,
   "id": "2d5a563d",
   "metadata": {},
   "outputs": [],
   "source": [
    "function safegetindex()"
   ]
  }
 ],
 "metadata": {
  "kernelspec": {
   "display_name": "Julia 1.9.3",
   "language": "julia",
   "name": "julia-1.9"
  },
  "language_info": {
   "file_extension": ".jl",
   "mimetype": "application/julia",
   "name": "julia",
   "version": "1.9.3"
  }
 },
 "nbformat": 4,
 "nbformat_minor": 5
}
