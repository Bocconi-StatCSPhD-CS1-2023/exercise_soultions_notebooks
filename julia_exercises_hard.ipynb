{
 "cells": [
  {
   "cell_type": "markdown",
   "id": "04931b41",
   "metadata": {},
   "source": [
    "# Ex1: List muxer"
   ]
  },
  {
   "cell_type": "code",
   "execution_count": 104,
   "id": "128e6f00",
   "metadata": {},
   "outputs": [
    {
     "data": {
      "text/plain": [
       "muxer (generic function with 1 method)"
      ]
     },
     "execution_count": 104,
     "metadata": {},
     "output_type": "execute_result"
    }
   ],
   "source": [
    "function muxer(l::Vector)\n",
    "    len1 = length(l)\n",
    "    len1 > 0 && (len2 = length(l[1]))\n",
    "    return [l[i][j] for j in 1:len2 for i in 1:len1]\n",
    "end"
   ]
  },
  {
   "cell_type": "code",
   "execution_count": 83,
   "id": "81b4bb66",
   "metadata": {},
   "outputs": [
    {
     "data": {
      "text/plain": [
       "4-element Vector{Char}:\n",
       " 'a': ASCII/Unicode U+0061 (category Ll: Letter, lowercase)\n",
       " 'c': ASCII/Unicode U+0063 (category Ll: Letter, lowercase)\n",
       " 'b': ASCII/Unicode U+0062 (category Ll: Letter, lowercase)\n",
       " 'd': ASCII/Unicode U+0064 (category Ll: Letter, lowercase)"
      ]
     },
     "execution_count": 83,
     "metadata": {},
     "output_type": "execute_result"
    }
   ],
   "source": [
    "muxer([['a', 'b'], ['c', 'd']])"
   ]
  },
  {
   "cell_type": "code",
   "execution_count": 84,
   "id": "1ed35118",
   "metadata": {},
   "outputs": [
    {
     "data": {
      "text/plain": [
       "2-element Vector{Char}:\n",
       " 'a': ASCII/Unicode U+0061 (category Ll: Letter, lowercase)\n",
       " 'b': ASCII/Unicode U+0062 (category Ll: Letter, lowercase)"
      ]
     },
     "execution_count": 84,
     "metadata": {},
     "output_type": "execute_result"
    }
   ],
   "source": [
    "muxer([['a', 'b']])"
   ]
  },
  {
   "cell_type": "code",
   "execution_count": 85,
   "id": "071aa3fe",
   "metadata": {},
   "outputs": [
    {
     "data": {
      "text/plain": [
       "12-element Vector{Int64}:\n",
       "  1\n",
       "  4\n",
       "  7\n",
       " 10\n",
       "  2\n",
       "  5\n",
       "  8\n",
       " 11\n",
       "  3\n",
       "  6\n",
       "  9\n",
       " 12"
      ]
     },
     "execution_count": 85,
     "metadata": {},
     "output_type": "execute_result"
    }
   ],
   "source": [
    "muxer([[1,2,3], [4,5,6], [7,8,9], [10,11,12]])"
   ]
  },
  {
   "cell_type": "markdown",
   "id": "92a9a468",
   "metadata": {},
   "source": [
    "# Ex2: Periodic Fibonacci sequences"
   ]
  },
  {
   "cell_type": "code",
   "execution_count": 40,
   "id": "9be9baa2",
   "metadata": {},
   "outputs": [
    {
     "data": {
      "text/plain": [
       "fibperiod (generic function with 1 method)"
      ]
     },
     "execution_count": 40,
     "metadata": {},
     "output_type": "execute_result"
    }
   ],
   "source": [
    "function fibperiod(n::Int)\n",
    "    n <= 1 && throw(ArgumentError(\"'n' must be an integer >1\"))\n",
    "    a = 1\n",
    "    b = 1\n",
    "    count = 1\n",
    "    while !(a == 0 && b == 1)\n",
    "        t = b\n",
    "        b = (a + t) % n\n",
    "        a = t\n",
    "        count += 1\n",
    "    end\n",
    "    return count\n",
    "end"
   ]
  },
  {
   "cell_type": "code",
   "execution_count": 41,
   "id": "af400b98",
   "metadata": {},
   "outputs": [
    {
     "data": {
      "text/plain": [
       "3"
      ]
     },
     "execution_count": 41,
     "metadata": {},
     "output_type": "execute_result"
    }
   ],
   "source": [
    "fibperiod(2)"
   ]
  },
  {
   "cell_type": "code",
   "execution_count": 42,
   "id": "30267355",
   "metadata": {},
   "outputs": [
    {
     "data": {
      "text/plain": [
       "16"
      ]
     },
     "execution_count": 42,
     "metadata": {},
     "output_type": "execute_result"
    }
   ],
   "source": [
    "fibperiod(7)"
   ]
  },
  {
   "cell_type": "code",
   "execution_count": 43,
   "id": "3d088fc1",
   "metadata": {},
   "outputs": [
    {
     "data": {
      "text/plain": [
       "560"
      ]
     },
     "execution_count": 43,
     "metadata": {},
     "output_type": "execute_result"
    }
   ],
   "source": [
    "fibperiod(1001)"
   ]
  },
  {
   "cell_type": "markdown",
   "id": "fef35abc",
   "metadata": {},
   "source": [
    "# Ex3: And the CPU’s for free"
   ]
  },
  {
   "cell_type": "code",
   "execution_count": 10,
   "id": "85d16fc4",
   "metadata": {},
   "outputs": [
    {
     "data": {
      "text/plain": [
       "interestdays (generic function with 1 method)"
      ]
     },
     "execution_count": 10,
     "metadata": {},
     "output_type": "execute_result"
    }
   ],
   "source": [
    "function interestdays(x::Float64, y::Float64, r::Float64)\n",
    "    (x < 0 || y < 0 || r < -100) && throw(ArgumentError(\"some of the arguments are misspecified\"))\n",
    "    days = 0\n",
    "    x == y && return 0\n",
    "    (y - x) * x * r * (y + (r == -100)) <= 0 && return nothing\n",
    "    while (y - x) * r > 0\n",
    "        x *= (1 + r/100)\n",
    "        days += 1\n",
    "    end\n",
    "    return days\n",
    "end"
   ]
  },
  {
   "cell_type": "code",
   "execution_count": 11,
   "id": "b9e16c83",
   "metadata": {},
   "outputs": [
    {
     "data": {
      "text/plain": [
       "0"
      ]
     },
     "execution_count": 11,
     "metadata": {},
     "output_type": "execute_result"
    }
   ],
   "source": [
    "interestdays(3.0, 3.0, 0.01)"
   ]
  },
  {
   "cell_type": "code",
   "execution_count": 18,
   "id": "ea91243f",
   "metadata": {},
   "outputs": [
    {
     "data": {
      "text/plain": [
       "1"
      ]
     },
     "execution_count": 18,
     "metadata": {},
     "output_type": "execute_result"
    }
   ],
   "source": [
    "interestdays(1.0, 0., -100.)"
   ]
  },
  {
   "cell_type": "code",
   "execution_count": 12,
   "id": "87ae6529",
   "metadata": {},
   "outputs": [],
   "source": [
    "interestdays(3.0, 4.0, 0.0)"
   ]
  },
  {
   "cell_type": "code",
   "execution_count": 13,
   "id": "ebc7cf6f",
   "metadata": {},
   "outputs": [],
   "source": [
    "interestdays(3.0, 0.0, -0.01)"
   ]
  },
  {
   "cell_type": "code",
   "execution_count": 14,
   "id": "f385cc36",
   "metadata": {},
   "outputs": [],
   "source": [
    "interestdays(3.0, 4.0, -0.01)"
   ]
  },
  {
   "cell_type": "code",
   "execution_count": 15,
   "id": "6992c299",
   "metadata": {},
   "outputs": [
    {
     "data": {
      "text/plain": [
       "694"
      ]
     },
     "execution_count": 15,
     "metadata": {},
     "output_type": "execute_result"
    }
   ],
   "source": [
    "interestdays(0.5, 1.0, 0.1)"
   ]
  },
  {
   "cell_type": "code",
   "execution_count": 16,
   "id": "351b961a",
   "metadata": {},
   "outputs": [
    {
     "data": {
      "text/plain": [
       "693"
      ]
     },
     "execution_count": 16,
     "metadata": {},
     "output_type": "execute_result"
    }
   ],
   "source": [
    "interestdays(1.0, 0.5, -0.1)"
   ]
  },
  {
   "cell_type": "markdown",
   "id": "8b1816a0",
   "metadata": {},
   "source": [
    "# Ex4: Run-length encoding"
   ]
  },
  {
   "cell_type": "code",
   "execution_count": 42,
   "id": "261ee3dc",
   "metadata": {},
   "outputs": [
    {
     "data": {
      "text/plain": [
       "rl_encode (generic function with 1 method)"
      ]
     },
     "execution_count": 42,
     "metadata": {},
     "output_type": "execute_result"
    }
   ],
   "source": [
    "function rl_encode(s::String)\n",
    "    res = []\n",
    "    cur_char = nothing\n",
    "    cur_count = 0\n",
    "    for char in collect(s)\n",
    "        if char != cur_char\n",
    "            cur_char != nothing && push!(res, cur_count, cur_char)\n",
    "            cur_count = 0\n",
    "            cur_char = char\n",
    "        end\n",
    "        cur_count += 1\n",
    "    end\n",
    "    cur_char != nothing && push!(res, cur_count, cur_char)\n",
    "    return res\n",
    "end"
   ]
  },
  {
   "cell_type": "code",
   "execution_count": 43,
   "id": "68bd99bd",
   "metadata": {},
   "outputs": [
    {
     "data": {
      "text/plain": [
       "8-element Vector{Any}:\n",
       " 3\n",
       "  'A': ASCII/Unicode U+0041 (category Lu: Letter, uppercase)\n",
       " 1\n",
       "  'B': ASCII/Unicode U+0042 (category Lu: Letter, uppercase)\n",
       " 2\n",
       "  'C': ASCII/Unicode U+0043 (category Lu: Letter, uppercase)\n",
       " 1\n",
       "  'D': ASCII/Unicode U+0044 (category Lu: Letter, uppercase)"
      ]
     },
     "execution_count": 43,
     "metadata": {},
     "output_type": "execute_result"
    }
   ],
   "source": [
    "rl_encode(\"AAABCCD\")"
   ]
  },
  {
   "cell_type": "code",
   "execution_count": 47,
   "id": "e273ac69",
   "metadata": {},
   "outputs": [
    {
     "data": {
      "text/plain": [
       "4-element Vector{Any}:\n",
       " 3\n",
       "  '1': ASCII/Unicode U+0031 (category Nd: Number, decimal digit)\n",
       " 4\n",
       "  '5': ASCII/Unicode U+0035 (category Nd: Number, decimal digit)"
      ]
     },
     "execution_count": 47,
     "metadata": {},
     "output_type": "execute_result"
    }
   ],
   "source": [
    "rl_encode(\"1115555\")"
   ]
  },
  {
   "cell_type": "code",
   "execution_count": 46,
   "id": "416a7df9",
   "metadata": {},
   "outputs": [
    {
     "data": {
      "text/plain": [
       "Any[]"
      ]
     },
     "execution_count": 46,
     "metadata": {},
     "output_type": "execute_result"
    }
   ],
   "source": [
    "rl_encode(\"\")"
   ]
  },
  {
   "cell_type": "markdown",
   "id": "2cb0af6a",
   "metadata": {},
   "source": [
    "# Ex4: Sublist?"
   ]
  },
  {
   "cell_type": "code",
   "execution_count": 54,
   "id": "94bf131b",
   "metadata": {},
   "outputs": [
    {
     "data": {
      "text/plain": [
       "issublist (generic function with 1 method)"
      ]
     },
     "execution_count": 54,
     "metadata": {},
     "output_type": "execute_result"
    }
   ],
   "source": [
    "function issublist(l1::Vector, l2::Vector)\n",
    "    eltype(l1) == eltype(l2) || throw(ArgumentError(\"'l1' and 'l2' must be of the same type\"))\n",
    "    len1 = length(l1)\n",
    "    len2 = length(l2)\n",
    "    for start in 1:(len2 - len1 + 1)\n",
    "        for i in 1:len1\n",
    "            l1[i] == l2[start + i - 1] || @goto endcheck\n",
    "        end\n",
    "        return true\n",
    "        @label endcheck\n",
    "    end\n",
    "    return false\n",
    "end"
   ]
  },
  {
   "cell_type": "code",
   "execution_count": 55,
   "id": "596e2897",
   "metadata": {},
   "outputs": [
    {
     "data": {
      "text/plain": [
       "true"
      ]
     },
     "execution_count": 55,
     "metadata": {},
     "output_type": "execute_result"
    }
   ],
   "source": [
    "issublist([], [])"
   ]
  },
  {
   "cell_type": "code",
   "execution_count": 56,
   "id": "8d2c513d",
   "metadata": {},
   "outputs": [
    {
     "data": {
      "text/plain": [
       "true"
      ]
     },
     "execution_count": 56,
     "metadata": {},
     "output_type": "execute_result"
    }
   ],
   "source": [
    "issublist([1,2], [1,2,3,2,1,0])"
   ]
  },
  {
   "cell_type": "code",
   "execution_count": 57,
   "id": "d48d9152",
   "metadata": {},
   "outputs": [
    {
     "data": {
      "text/plain": [
       "false"
      ]
     },
     "execution_count": 57,
     "metadata": {},
     "output_type": "execute_result"
    }
   ],
   "source": [
    "issublist([1,3], [1,2,3,2,1,0])"
   ]
  },
  {
   "cell_type": "code",
   "execution_count": 58,
   "id": "9e6d12e4",
   "metadata": {},
   "outputs": [
    {
     "data": {
      "text/plain": [
       "true"
      ]
     },
     "execution_count": 58,
     "metadata": {},
     "output_type": "execute_result"
    }
   ],
   "source": [
    "issublist([2,3,2,1], [1,2,3,2,1,0])"
   ]
  },
  {
   "cell_type": "markdown",
   "id": "8816b758",
   "metadata": {},
   "source": [
    "# Ex5: Supermarket queue"
   ]
  },
  {
   "cell_type": "code",
   "execution_count": 64,
   "id": "607b9cac",
   "metadata": {},
   "outputs": [
    {
     "data": {
      "text/plain": [
       "supermarket (generic function with 1 method)"
      ]
     },
     "execution_count": 64,
     "metadata": {},
     "output_type": "execute_result"
    }
   ],
   "source": [
    "function supermarket(l::Vector{Int}, k::Int)\n",
    "    k < 1 && throw(ArgumentError(\"'k' must be a positive integer\"))\n",
    "    times = zeros(Int, k)\n",
    "    counts = zeros(Int, k)\n",
    "    for t in l\n",
    "        ind = findmin(times)[2]\n",
    "        times[ind] += t\n",
    "        counts[ind] += 1\n",
    "    end\n",
    "    return (findmax(times), findmax(counts))\n",
    "end"
   ]
  },
  {
   "cell_type": "code",
   "execution_count": 65,
   "id": "00869c48",
   "metadata": {},
   "outputs": [
    {
     "data": {
      "text/plain": [
       "((23, 1), (5, 1))"
      ]
     },
     "execution_count": 65,
     "metadata": {},
     "output_type": "execute_result"
    }
   ],
   "source": [
    "supermarket([3, 10, 2, 6, 2], 1)"
   ]
  },
  {
   "cell_type": "code",
   "execution_count": 66,
   "id": "9cc33962",
   "metadata": {},
   "outputs": [
    {
     "data": {
      "text/plain": [
       "((12, 2), (3, 1))"
      ]
     },
     "execution_count": 66,
     "metadata": {},
     "output_type": "execute_result"
    }
   ],
   "source": [
    "supermarket([3, 10, 2, 6, 2], 2)"
   ]
  },
  {
   "cell_type": "code",
   "execution_count": 68,
   "id": "039d8777",
   "metadata": {},
   "outputs": [
    {
     "data": {
      "text/plain": [
       "((10, 2), (2, 1))"
      ]
     },
     "execution_count": 68,
     "metadata": {},
     "output_type": "execute_result"
    }
   ],
   "source": [
    "supermarket([3, 10, 2, 6, 2], 3)"
   ]
  },
  {
   "cell_type": "code",
   "execution_count": 67,
   "id": "5fb058b6",
   "metadata": {},
   "outputs": [
    {
     "data": {
      "text/plain": [
       "((10, 2), (1, 1))"
      ]
     },
     "execution_count": 67,
     "metadata": {},
     "output_type": "execute_result"
    }
   ],
   "source": [
    "supermarket([3, 10, 2, 6, 2], 10)"
   ]
  },
  {
   "cell_type": "markdown",
   "id": "d9591ce3",
   "metadata": {},
   "source": [
    "# Ex6: Evenly split a list"
   ]
  },
  {
   "cell_type": "code",
   "execution_count": 2,
   "id": "4a9abecb",
   "metadata": {},
   "outputs": [
    {
     "data": {
      "text/plain": [
       "listsplit (generic function with 1 method)"
      ]
     },
     "execution_count": 2,
     "metadata": {},
     "output_type": "execute_result"
    }
   ],
   "source": [
    "function listsplit(l::Vector{Int})\n",
    "    len = length(l)\n",
    "    total = sum(l)\n",
    "    ind = 0\n",
    "    currsum = 0\n",
    "    currbest = abs(total)\n",
    "    for i in 1 : len - 1\n",
    "        currsum += l[i]\n",
    "        delta = abs(total - 2 * currsum)\n",
    "        delta < currbest && (ind = i; currbest = delta)\n",
    "    end\n",
    "    return ind\n",
    "end"
   ]
  },
  {
   "cell_type": "code",
   "execution_count": 3,
   "id": "cbd2c580",
   "metadata": {},
   "outputs": [
    {
     "data": {
      "text/plain": [
       "3"
      ]
     },
     "execution_count": 3,
     "metadata": {},
     "output_type": "execute_result"
    }
   ],
   "source": [
    "listsplit([2,4,-1,5,-2])"
   ]
  },
  {
   "cell_type": "code",
   "execution_count": 4,
   "id": "8f4cd444",
   "metadata": {},
   "outputs": [
    {
     "data": {
      "text/plain": [
       "3"
      ]
     },
     "execution_count": 4,
     "metadata": {},
     "output_type": "execute_result"
    }
   ],
   "source": [
    "listsplit([2,4,5,11])"
   ]
  },
  {
   "cell_type": "code",
   "execution_count": 5,
   "id": "b971a218",
   "metadata": {},
   "outputs": [
    {
     "data": {
      "text/plain": [
       "0"
      ]
     },
     "execution_count": 5,
     "metadata": {},
     "output_type": "execute_result"
    }
   ],
   "source": [
    "listsplit([1,2,3,-6])"
   ]
  },
  {
   "cell_type": "code",
   "execution_count": 6,
   "id": "0a21a334",
   "metadata": {},
   "outputs": [
    {
     "data": {
      "text/plain": [
       "1"
      ]
     },
     "execution_count": 6,
     "metadata": {},
     "output_type": "execute_result"
    }
   ],
   "source": [
    "listsplit([5,5,5])"
   ]
  },
  {
   "cell_type": "code",
   "execution_count": 7,
   "id": "dc0148bf",
   "metadata": {},
   "outputs": [
    {
     "data": {
      "text/plain": [
       "0"
      ]
     },
     "execution_count": 7,
     "metadata": {},
     "output_type": "execute_result"
    }
   ],
   "source": [
    "listsplit(Int[])"
   ]
  },
  {
   "cell_type": "markdown",
   "id": "ef8659c3",
   "metadata": {},
   "source": []
  },
  {
   "cell_type": "code",
   "execution_count": 8,
   "id": "8fd1a316",
   "metadata": {},
   "outputs": [
    {
     "data": {
      "text/plain": [
       "0"
      ]
     },
     "execution_count": 8,
     "metadata": {},
     "output_type": "execute_result"
    }
   ],
   "source": [
    "listsplit([3])"
   ]
  },
  {
   "cell_type": "markdown",
   "id": "0940bcdf",
   "metadata": {},
   "source": [
    "# Ex7: Avalanches"
   ]
  },
  {
   "cell_type": "code",
   "execution_count": 19,
   "id": "1643848e",
   "metadata": {},
   "outputs": [
    {
     "data": {
      "text/plain": [
       "avalanche (generic function with 2 methods)"
      ]
     },
     "execution_count": 19,
     "metadata": {},
     "output_type": "execute_result"
    }
   ],
   "source": [
    "function avalanche(l::Vector{Int}, k::Int=2)\n",
    "    len = length(l)\n",
    "    push!(l, 0)\n",
    "    breaker = false\n",
    "    while !breaker\n",
    "        l[end] = 0\n",
    "        breaker = true\n",
    "        for i in 1:len\n",
    "            l[i] - l[i+1] >= k && (l[i] -= 1; l[i+1] += 1; breaker = false)\n",
    "        end\n",
    "    end\n",
    "    pop!(l)\n",
    "    return l\n",
    "end"
   ]
  },
  {
   "cell_type": "code",
   "execution_count": 21,
   "id": "129e42ea",
   "metadata": {},
   "outputs": [
    {
     "data": {
      "text/plain": [
       "3-element Vector{Int64}:\n",
       " 3\n",
       " 2\n",
       " 1"
      ]
     },
     "execution_count": 21,
     "metadata": {},
     "output_type": "execute_result"
    }
   ],
   "source": [
    "avalanche([6, 4, 1])"
   ]
  },
  {
   "cell_type": "code",
   "execution_count": 22,
   "id": "7880c528",
   "metadata": {},
   "outputs": [
    {
     "data": {
      "text/plain": [
       "3-element Vector{Int64}:\n",
       " 5\n",
       " 4\n",
       " 2"
      ]
     },
     "execution_count": 22,
     "metadata": {},
     "output_type": "execute_result"
    }
   ],
   "source": [
    "avalanche([6, 4, 1], 3)"
   ]
  },
  {
   "cell_type": "code",
   "execution_count": 23,
   "id": "110e5844",
   "metadata": {},
   "outputs": [
    {
     "data": {
      "text/plain": [
       "4-element Vector{Int64}:\n",
       " 11\n",
       "  9\n",
       "  6\n",
       "  3"
      ]
     },
     "execution_count": 23,
     "metadata": {},
     "output_type": "execute_result"
    }
   ],
   "source": [
    "avalanche([15, 7, 6, 1], 4)"
   ]
  },
  {
   "cell_type": "code",
   "execution_count": 24,
   "id": "d0305d9f",
   "metadata": {},
   "outputs": [
    {
     "data": {
      "text/plain": [
       "1-element Vector{Int64}:\n",
       " 1"
      ]
     },
     "execution_count": 24,
     "metadata": {},
     "output_type": "execute_result"
    }
   ],
   "source": [
    "avalanche([3], 2)"
   ]
  },
  {
   "cell_type": "markdown",
   "id": "f338c446",
   "metadata": {},
   "source": [
    "# Ex8: Longest ramp"
   ]
  },
  {
   "cell_type": "code",
   "execution_count": 32,
   "id": "cb309ac0",
   "metadata": {},
   "outputs": [
    {
     "data": {
      "text/plain": [
       "longestramp (generic function with 1 method)"
      ]
     },
     "execution_count": 32,
     "metadata": {},
     "output_type": "execute_result"
    }
   ],
   "source": [
    "function longestramp(v::Vector{Int})\n",
    "    push!(v, -1)\n",
    "    len = length(v)\n",
    "    i0 = i1 = 0\n",
    "    l = 1\n",
    "    for i in 2:len\n",
    "        if v[i] < v[i-1]\n",
    "            (i - l) > (i1 - i0) && (i0 = l; i1 = i)\n",
    "            l = i\n",
    "        end\n",
    "    end\n",
    "    pop!(v)\n",
    "    return (i0, i1)\n",
    "end"
   ]
  },
  {
   "cell_type": "code",
   "execution_count": 26,
   "id": "8e6aab8b",
   "metadata": {},
   "outputs": [
    {
     "data": {
      "text/plain": [
       "1"
      ]
     },
     "execution_count": 26,
     "metadata": {},
     "output_type": "execute_result"
    }
   ],
   "source": [
    "a = b = 1\n",
    "a"
   ]
  },
  {
   "cell_type": "code",
   "execution_count": 33,
   "id": "14475460",
   "metadata": {},
   "outputs": [
    {
     "data": {
      "text/plain": [
       "(1, 4)"
      ]
     },
     "execution_count": 33,
     "metadata": {},
     "output_type": "execute_result"
    }
   ],
   "source": [
    "longestramp([5, 6, 7])"
   ]
  },
  {
   "cell_type": "code",
   "execution_count": 27,
   "id": "20a0c11c",
   "metadata": {},
   "outputs": [
    {
     "data": {
      "text/plain": [
       "1"
      ]
     },
     "execution_count": 27,
     "metadata": {},
     "output_type": "execute_result"
    }
   ],
   "source": [
    "ddb"
   ]
  },
  {
   "cell_type": "code",
   "execution_count": 34,
   "id": "3307ae5b",
   "metadata": {},
   "outputs": [
    {
     "data": {
      "text/plain": [
       "(3, 6)"
      ]
     },
     "execution_count": 34,
     "metadata": {},
     "output_type": "execute_result"
    }
   ],
   "source": [
    "longestramp([1, 3, 1, 2, 3])"
   ]
  },
  {
   "cell_type": "code",
   "execution_count": 35,
   "id": "665f8bd9",
   "metadata": {},
   "outputs": [
    {
     "data": {
      "text/plain": [
       "(1, 4)"
      ]
     },
     "execution_count": 35,
     "metadata": {},
     "output_type": "execute_result"
    }
   ],
   "source": [
    "longestramp([2, 3, 3, 1, 6, 1, 1, 3])"
   ]
  },
  {
   "cell_type": "code",
   "execution_count": 36,
   "id": "1d61894b",
   "metadata": {},
   "outputs": [
    {
     "data": {
      "text/plain": [
       "(5, 9)"
      ]
     },
     "execution_count": 36,
     "metadata": {},
     "output_type": "execute_result"
    }
   ],
   "source": [
    "longestramp([3, 2, 5, 5, 1, 1, 4, 5, 2, 6])"
   ]
  },
  {
   "cell_type": "code",
   "execution_count": 38,
   "id": "9da7a5f1",
   "metadata": {},
   "outputs": [
    {
     "data": {
      "text/plain": [
       "(0, 0)"
      ]
     },
     "execution_count": 38,
     "metadata": {},
     "output_type": "execute_result"
    }
   ],
   "source": [
    "longestramp(Int[])"
   ]
  },
  {
   "cell_type": "code",
   "execution_count": 39,
   "id": "6fd3900a",
   "metadata": {},
   "outputs": [
    {
     "data": {
      "text/plain": [
       "(1, 2)"
      ]
     },
     "execution_count": 39,
     "metadata": {},
     "output_type": "execute_result"
    }
   ],
   "source": [
    "longestramp([7])"
   ]
  },
  {
   "cell_type": "markdown",
   "id": "e72979b2",
   "metadata": {},
   "source": [
    "# Ex9: Regular numbers"
   ]
  },
  {
   "cell_type": "code",
   "execution_count": 66,
   "id": "28605425",
   "metadata": {},
   "outputs": [
    {
     "data": {
      "text/plain": [
       "isregular (generic function with 1 method)"
      ]
     },
     "execution_count": 66,
     "metadata": {},
     "output_type": "execute_result"
    }
   ],
   "source": [
    "function isregular(n::Int)\n",
    "    n <= 0 && throw(ArgumentError(\"'n' must be a positive integer\"))\n",
    "    return n == 1 || any(n % k == 0 && isregular(n÷k) for k in [2, 3, 5])\n",
    "end"
   ]
  },
  {
   "cell_type": "code",
   "execution_count": 67,
   "id": "630447f7",
   "metadata": {},
   "outputs": [
    {
     "data": {
      "text/plain": [
       "false"
      ]
     },
     "execution_count": 67,
     "metadata": {},
     "output_type": "execute_result"
    }
   ],
   "source": [
    "isregular(7)"
   ]
  },
  {
   "cell_type": "code",
   "execution_count": 68,
   "id": "a959ab17",
   "metadata": {},
   "outputs": [
    {
     "data": {
      "text/plain": [
       "true"
      ]
     },
     "execution_count": 68,
     "metadata": {},
     "output_type": "execute_result"
    }
   ],
   "source": [
    "isregular(10)"
   ]
  },
  {
   "cell_type": "code",
   "execution_count": 69,
   "id": "49e3c920",
   "metadata": {},
   "outputs": [
    {
     "data": {
      "text/plain": [
       "true"
      ]
     },
     "execution_count": 69,
     "metadata": {},
     "output_type": "execute_result"
    }
   ],
   "source": [
    "isregular(2^5*3^5*5^5)"
   ]
  },
  {
   "cell_type": "code",
   "execution_count": 70,
   "id": "6b2e4d9f",
   "metadata": {},
   "outputs": [
    {
     "data": {
      "text/plain": [
       "false"
      ]
     },
     "execution_count": 70,
     "metadata": {},
     "output_type": "execute_result"
    }
   ],
   "source": [
    "isregular(2^5*3^5*5^5*7)"
   ]
  },
  {
   "cell_type": "markdown",
   "id": "dab7220b",
   "metadata": {},
   "source": [
    "# Ex10: Confluence of prioritized queues"
   ]
  },
  {
   "cell_type": "code",
   "execution_count": 96,
   "id": "43fd22c7",
   "metadata": {},
   "outputs": [
    {
     "data": {
      "text/plain": [
       "confluence (generic function with 1 method)"
      ]
     },
     "execution_count": 96,
     "metadata": {},
     "output_type": "execute_result"
    }
   ],
   "source": [
    "function confluence(q1::Vector{Int}, q2::Vector{Int})::Vector{Tuple{Int, Int}}\n",
    "    l1, l2 = length(q1), length(q2)\n",
    "    i1 = i2 = 1\n",
    "    p1 = p2 = 0\n",
    "    res = Tuple{Int, Int}[]\n",
    "    while i1 <= l1 && i2 <= l2\n",
    "        if p1 + q1[i1] >= p2 + q2[i2]\n",
    "            push!(res, (1, q1[i1]))\n",
    "            i1 += 1\n",
    "            p2 += 1\n",
    "        else\n",
    "            push!(res, (2, q2[i2]))\n",
    "            i2 += 1\n",
    "            p1 += 1\n",
    "        end\n",
    "    end\n",
    "    i2 > l2 && push!(res, ((1, q1[i]) for i in i1:l1)...)\n",
    "    i1 > l1 && push!(res, ((2, q2[i]) for i in i2:l2)...)\n",
    "    return res\n",
    "end"
   ]
  },
  {
   "cell_type": "code",
   "execution_count": 99,
   "id": "37d54eea",
   "metadata": {},
   "outputs": [
    {
     "data": {
      "text/plain": [
       "Tuple{Int64, Int64}[]"
      ]
     },
     "execution_count": 99,
     "metadata": {},
     "output_type": "execute_result"
    }
   ],
   "source": [
    "confluence(Int[], Int[])"
   ]
  },
  {
   "cell_type": "code",
   "execution_count": 100,
   "id": "276d3e9d",
   "metadata": {},
   "outputs": [
    {
     "data": {
      "text/plain": [
       "2-element Vector{Tuple{Int64, Int64}}:\n",
       " (1, 3)\n",
       " (1, 4)"
      ]
     },
     "execution_count": 100,
     "metadata": {},
     "output_type": "execute_result"
    }
   ],
   "source": [
    "confluence([3, 4], Int[])"
   ]
  },
  {
   "cell_type": "code",
   "execution_count": 103,
   "id": "d82bc2f3",
   "metadata": {},
   "outputs": [
    {
     "data": {
      "text/plain": [
       "true"
      ]
     },
     "execution_count": 103,
     "metadata": {},
     "output_type": "execute_result"
    }
   ],
   "source": [
    "confluence([3, 2, 1], [1, 4, 7, 2, 9]) == [(1, 3), (1, 2), (2, 1), (2, 4), (2, 7), (1, 1), (2, 2), (2, 9)]"
   ]
  },
  {
   "cell_type": "markdown",
   "id": "a33079c7",
   "metadata": {},
   "source": [
    "# Ex11: Counting sort"
   ]
  },
  {
   "cell_type": "code",
   "execution_count": 158,
   "id": "406fb9e5",
   "metadata": {},
   "outputs": [
    {
     "data": {
      "text/plain": [
       "countsort (generic function with 1 method)"
      ]
     },
     "execution_count": 158,
     "metadata": {},
     "output_type": "execute_result"
    }
   ],
   "source": [
    "function countsort(l::Vector{Int}, k::Int)\n",
    "    counts = zeros(Int, k)\n",
    "    for x in l\n",
    "        counts[x] += 1\n",
    "    end\n",
    "    curr = 1\n",
    "    for i in 1:k\n",
    "        l[curr:curr + counts[i] - 1] .= i\n",
    "        curr += counts[i]\n",
    "    end\n",
    "    return l\n",
    "end"
   ]
  },
  {
   "cell_type": "code",
   "execution_count": 159,
   "id": "74423470",
   "metadata": {},
   "outputs": [
    {
     "data": {
      "text/plain": [
       "5-element Vector{Int64}:\n",
       " 1\n",
       " 2\n",
       " 3\n",
       " 3\n",
       " 5"
      ]
     },
     "execution_count": 159,
     "metadata": {},
     "output_type": "execute_result"
    }
   ],
   "source": [
    "countsort([3, 5, 2, 1, 3], 6)"
   ]
  },
  {
   "cell_type": "code",
   "execution_count": 160,
   "id": "055f3c4e",
   "metadata": {},
   "outputs": [
    {
     "data": {
      "text/plain": [
       "7-element Vector{Int64}:\n",
       " 1\n",
       " 1\n",
       " 2\n",
       " 2\n",
       " 3\n",
       " 3\n",
       " 5"
      ]
     },
     "execution_count": 160,
     "metadata": {},
     "output_type": "execute_result"
    }
   ],
   "source": [
    "countsort([3, 5, 2, 1, 2, 1, 3], 10)"
   ]
  },
  {
   "cell_type": "code",
   "execution_count": 161,
   "id": "8324d004",
   "metadata": {},
   "outputs": [
    {
     "data": {
      "text/plain": [
       "Int64[]"
      ]
     },
     "execution_count": 161,
     "metadata": {},
     "output_type": "execute_result"
    }
   ],
   "source": [
    "countsort(Int[], 6)"
   ]
  },
  {
   "cell_type": "code",
   "execution_count": 162,
   "id": "9e1627c1",
   "metadata": {},
   "outputs": [
    {
     "data": {
      "text/plain": [
       "5-element Vector{Int64}:\n",
       " 1\n",
       " 2\n",
       " 3\n",
       " 3\n",
       " 5"
      ]
     },
     "execution_count": 162,
     "metadata": {},
     "output_type": "execute_result"
    }
   ],
   "source": [
    "l = [3, 5, 2, 1, 3]\n",
    "countsort(l, 7)\n",
    "l"
   ]
  },
  {
   "cell_type": "markdown",
   "id": "a0ea3a9c",
   "metadata": {},
   "source": [
    "# Ex12: List partitioning"
   ]
  },
  {
   "cell_type": "code",
   "execution_count": 170,
   "id": "235d0a61",
   "metadata": {},
   "outputs": [
    {
     "data": {
      "text/plain": [
       "listpart (generic function with 1 method)"
      ]
     },
     "execution_count": 170,
     "metadata": {},
     "output_type": "execute_result"
    }
   ],
   "source": [
    "function listpart(l::Vector{Int}, k::Int)::Vector{Vector{Int}}\n",
    "    res = Vector{Int}[]\n",
    "    curr_list = Int[]\n",
    "    curr_sum = 0\n",
    "    for x in l\n",
    "        x > k && continue\n",
    "        curr_sum += x\n",
    "        if curr_sum > k\n",
    "            push!(res, curr_list)\n",
    "            curr_list = [x]\n",
    "            curr_sum = x\n",
    "        else\n",
    "            push!(curr_list, x)\n",
    "        end\n",
    "    end\n",
    "    curr_list != [] && push!(res, curr_list)\n",
    "    return res\n",
    "end"
   ]
  },
  {
   "cell_type": "code",
   "execution_count": 171,
   "id": "102ff250",
   "metadata": {},
   "outputs": [
    {
     "data": {
      "text/plain": [
       "2-element Vector{Vector{Int64}}:\n",
       " [4, 3]\n",
       " [2]"
      ]
     },
     "execution_count": 171,
     "metadata": {},
     "output_type": "execute_result"
    }
   ],
   "source": [
    "listpart(Int[4, 3, 2], 7)"
   ]
  },
  {
   "cell_type": "code",
   "execution_count": 172,
   "id": "05990cb9",
   "metadata": {},
   "outputs": [
    {
     "data": {
      "text/plain": [
       "2-element Vector{Vector{Int64}}:\n",
       " [4]\n",
       " [3, 2]"
      ]
     },
     "execution_count": 172,
     "metadata": {},
     "output_type": "execute_result"
    }
   ],
   "source": [
    "listpart([4, 3, 2], 5)"
   ]
  },
  {
   "cell_type": "code",
   "execution_count": 173,
   "id": "0b80ac2a",
   "metadata": {},
   "outputs": [
    {
     "data": {
      "text/plain": [
       "1-element Vector{Vector{Int64}}:\n",
       " [4, 3, 2]"
      ]
     },
     "execution_count": 173,
     "metadata": {},
     "output_type": "execute_result"
    }
   ],
   "source": [
    "listpart([4, 3, 2], 10)"
   ]
  },
  {
   "cell_type": "code",
   "execution_count": 174,
   "id": "8a9567e1",
   "metadata": {},
   "outputs": [
    {
     "data": {
      "text/plain": [
       "3-element Vector{Vector{Int64}}:\n",
       " [3, 4]\n",
       " [2, 6]\n",
       " [1]"
      ]
     },
     "execution_count": 174,
     "metadata": {},
     "output_type": "execute_result"
    }
   ],
   "source": [
    "listpart([3, 4, 2, 6, 1], 8)"
   ]
  },
  {
   "cell_type": "code",
   "execution_count": 175,
   "id": "58a58709",
   "metadata": {},
   "outputs": [
    {
     "data": {
      "text/plain": [
       "1-element Vector{Vector{Int64}}:\n",
       " [4, 1, 1]"
      ]
     },
     "execution_count": 175,
     "metadata": {},
     "output_type": "execute_result"
    }
   ],
   "source": [
    "listpart([4, 1, 8, 1], 7)"
   ]
  },
  {
   "cell_type": "code",
   "execution_count": 176,
   "id": "104ab033",
   "metadata": {},
   "outputs": [
    {
     "data": {
      "text/plain": [
       "Vector{Int64}[]"
      ]
     },
     "execution_count": 176,
     "metadata": {},
     "output_type": "execute_result"
    }
   ],
   "source": [
    "listpart([4, 3, 6], 2)"
   ]
  },
  {
   "cell_type": "code",
   "execution_count": 178,
   "id": "8e0ae8f8",
   "metadata": {},
   "outputs": [
    {
     "data": {
      "text/plain": [
       "Vector{Int64}[]"
      ]
     },
     "execution_count": 178,
     "metadata": {},
     "output_type": "execute_result"
    }
   ],
   "source": [
    "listpart(Int[], 2)"
   ]
  }
 ],
 "metadata": {
  "kernelspec": {
   "display_name": "Julia 1.9.3",
   "language": "julia",
   "name": "julia-1.9"
  },
  "language_info": {
   "file_extension": ".jl",
   "mimetype": "application/julia",
   "name": "julia",
   "version": "1.9.3"
  }
 },
 "nbformat": 4,
 "nbformat_minor": 5
}
